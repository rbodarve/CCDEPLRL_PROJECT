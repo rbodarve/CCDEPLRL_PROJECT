{
 "cells": [
  {
   "cell_type": "markdown",
   "metadata": {},
   "source": [
    "# Video Frame Extraction for Violence Detection Dataset\n",
    "\n",
    "This notebook extracts frames from videos for training a violence detection model. It processes both violence and non-violence videos and saves extracted frames to the appropriate directories."
   ]
  },
  {
   "cell_type": "markdown",
   "metadata": {},
   "source": [
    "## Import Required Libraries"
   ]
  },
  {
   "cell_type": "code",
   "execution_count": 1,
   "metadata": {},
   "outputs": [],
   "source": [
    "import cv2\n",
    "import os\n",
    "import glob\n",
    "from tqdm import tqdm"
   ]
  },
  {
   "cell_type": "markdown",
   "metadata": {},
   "source": [
    "## Create Directory Structure"
   ]
  },
  {
   "cell_type": "code",
   "execution_count": 2,
   "metadata": {},
   "outputs": [
    {
     "name": "stdout",
     "output_type": "stream",
     "text": [
      "Violence directory exists: True\n",
      "NonViolence directory exists: True\n"
     ]
    }
   ],
   "source": [
    "# Create data directories if they don't exist\n",
    "os.makedirs('./data/Violence', exist_ok=True)\n",
    "os.makedirs('./data/NonViolence', exist_ok=True)\n",
    "\n",
    "# Check if directories are created\n",
    "print(f\"Violence directory exists: {os.path.exists('./data/Violence')}\")\n",
    "print(f\"NonViolence directory exists: {os.path.exists('./data/NonViolence')}\")"
   ]
  },
  {
   "cell_type": "markdown",
   "metadata": {},
   "source": [
    "## Extract Frames from Violence Videos"
   ]
  },
  {
   "cell_type": "code",
   "execution_count": 3,
   "metadata": {},
   "outputs": [
    {
     "name": "stdout",
     "output_type": "stream",
     "text": [
      "Found 1000 violence videos\n"
     ]
    }
   ],
   "source": [
    "# Path to violence videos\n",
    "PATH_violence = 'video/Violence'\n",
    "\n",
    "# Check if directory exists\n",
    "if not os.path.exists(PATH_violence):\n",
    "    print(f\"Warning: Directory {PATH_violence} does not exist!\")\n",
    "    video_files = []\n",
    "else:\n",
    "    # Count video files\n",
    "    video_files = glob.glob(PATH_violence + '/*')\n",
    "    print(f\"Found {len(video_files)} violence videos\")"
   ]
  },
  {
   "cell_type": "code",
   "execution_count": 4,
   "metadata": {},
   "outputs": [
    {
     "name": "stderr",
     "output_type": "stream",
     "text": [
      "Processing violence videos:   0%|          | 0/1000 [00:00<?, ?it/s]"
     ]
    },
    {
     "name": "stderr",
     "output_type": "stream",
     "text": [
      "Processing violence videos: 100%|██████████| 1000/1000 [12:20<00:00,  1.35it/s] "
     ]
    },
    {
     "name": "stdout",
     "output_type": "stream",
     "text": [
      "Total frames extracted from violence videos: 53371\n"
     ]
    },
    {
     "name": "stderr",
     "output_type": "stream",
     "text": [
      "\n"
     ]
    }
   ],
   "source": [
    "# Process Violence videos\n",
    "violence_frame_count = 0\n",
    "for path in tqdm(video_files, desc=\"Processing violence videos\"):\n",
    "    fname = os.path.basename(path).split('.')[0]\n",
    "    vidcap = cv2.VideoCapture(path)\n",
    "    success, image = vidcap.read()\n",
    "    count = 0\n",
    "    extracted = 0\n",
    "    \n",
    "    # Extract every 3rd frame (matching mobilenetv2_tsm.py frame sampling)\n",
    "    while success:\n",
    "        if count % 3 == 0:\n",
    "            cv2.imwrite(f\"./data/Violence/{fname}-{str(count).zfill(4)}.jpg\", image)\n",
    "            extracted += 1\n",
    "        success, image = vidcap.read()\n",
    "        count += 1\n",
    "    violence_frame_count += extracted\n",
    "    vidcap.release()\n",
    "\n",
    "# Print information about extracted frames\n",
    "print(f\"Total frames extracted from violence videos: {violence_frame_count}\")"
   ]
  },
  {
   "cell_type": "markdown",
   "metadata": {},
   "source": [
    "## Extract Frames from Non-Violence Videos"
   ]
  },
  {
   "cell_type": "code",
   "execution_count": 5,
   "metadata": {},
   "outputs": [
    {
     "name": "stdout",
     "output_type": "stream",
     "text": [
      "Found 1000 non-violence videos\n"
     ]
    }
   ],
   "source": [
    "# Path to non-violence videos\n",
    "PATH_nonviolence = 'video/NonViolence'\n",
    "\n",
    "# Check if directory exists\n",
    "if not os.path.exists(PATH_nonviolence):\n",
    "    print(f\"Warning: Directory {PATH_nonviolence} does not exist!\")\n",
    "    nonviolence_video_files = []\n",
    "else:\n",
    "    # Count video files\n",
    "    nonviolence_video_files = glob.glob(PATH_nonviolence + '/*')\n",
    "    print(f\"Found {len(nonviolence_video_files)} non-violence videos\")"
   ]
  },
  {
   "cell_type": "code",
   "execution_count": 6,
   "metadata": {},
   "outputs": [
    {
     "name": "stderr",
     "output_type": "stream",
     "text": [
      "Processing non-violence videos: 100%|██████████| 1000/1000 [06:30<00:00,  2.56it/s]"
     ]
    },
    {
     "name": "stdout",
     "output_type": "stream",
     "text": [
      "Total frames extracted from non-violence videos: 42911\n"
     ]
    },
    {
     "name": "stderr",
     "output_type": "stream",
     "text": [
      "\n"
     ]
    }
   ],
   "source": [
    "# Process NonViolence videos\n",
    "nonviolence_frame_count = 0\n",
    "for path in tqdm(nonviolence_video_files, desc=\"Processing non-violence videos\"):\n",
    "    fname = os.path.basename(path).split('.')[0]\n",
    "    vidcap = cv2.VideoCapture(path)\n",
    "    success, image = vidcap.read()\n",
    "    count = 0\n",
    "    extracted = 0\n",
    "    \n",
    "    # Extract every 3rd frame (matching mobilenetv2_tsm.py frame sampling)\n",
    "    while success:\n",
    "        if count % 3 == 0:\n",
    "            cv2.imwrite(f\"./data/NonViolence/{fname}-{str(count).zfill(4)}.jpg\", image)\n",
    "            extracted += 1\n",
    "        success, image = vidcap.read()\n",
    "        count += 1\n",
    "        \n",
    "    nonviolence_frame_count += extracted\n",
    "    vidcap.release()\n",
    "    \n",
    "# Print information about extracted frames\n",
    "print(f\"Total frames extracted from non-violence videos: {nonviolence_frame_count}\")"
   ]
  },
  {
   "cell_type": "markdown",
   "metadata": {},
   "source": [
    "## Summary"
   ]
  },
  {
   "cell_type": "code",
   "execution_count": 7,
   "metadata": {},
   "outputs": [
    {
     "name": "stdout",
     "output_type": "stream",
     "text": [
      "Total extracted frames:\n",
      "- Violence: 53371\n",
      "- NonViolence: 42911\n"
     ]
    }
   ],
   "source": [
    "# Count extracted frames\n",
    "violence_frames = len(glob.glob('./data/Violence/*.jpg'))\n",
    "nonviolence_frames = len(glob.glob('./data/NonViolence/*.jpg'))\n",
    "\n",
    "print(f\"Total extracted frames:\\n- Violence: {violence_frames}\\n- NonViolence: {nonviolence_frames}\")"
   ]
  }
 ],
 "metadata": {
  "kernelspec": {
   "display_name": "CCDEPLRL_PROJECT",
   "language": "python",
   "name": "python3"
  },
  "language_info": {
   "codemirror_mode": {
    "name": "ipython",
    "version": 3
   },
   "file_extension": ".py",
   "mimetype": "text/x-python",
   "name": "python",
   "nbconvert_exporter": "python",
   "pygments_lexer": "ipython3",
   "version": "3.10.0"
  }
 },
 "nbformat": 4,
 "nbformat_minor": 4
}
