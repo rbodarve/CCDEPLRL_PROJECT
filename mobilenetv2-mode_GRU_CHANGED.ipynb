{
 "cells": [
  {
   "cell_type": "markdown",
   "metadata": {},
   "source": [
    "# Violence Detection with MobileNetV2 with GRU\n",
    "\n",
    "This notebook trains a MobileNetV2 model with GRU for violence detection in videos."
   ]
  },
  {
   "cell_type": "code",
   "execution_count": 2,
   "metadata": {},
   "outputs": [],
   "source": [
    "## Change the Image size from 224 to 64 due to memory constraints\n",
    "## Change the Sequence length 16 to 8 due to memory constraints\n",
    "## Change the Batch size from 16 to 4 due to memory constraints\n",
    "## Change the MAX_VIDEOS_PER_CLASS from 1000 to 200 due to memory constraints"
   ]
  },
  {
   "cell_type": "code",
   "execution_count": 3,
   "metadata": {},
   "outputs": [],
   "source": [
    "import os  # Import operating system interface module for file/directory operations\n",
    "import platform  # Import module to access underlying platform's data (OS info, architecture)\n",
    "from IPython.display import clear_output  # Import function to clear Jupyter notebook cell output\n",
    "import numpy as np  # Import NumPy for numerical computing and array operations\n",
    "import cv2  # Import OpenCV for computer vision and image processing tasks\n",
    "import tensorflow as tf  # Import TensorFlow deep learning framework\n",
    "from tensorflow import keras  # Import Keras high-level neural networks API from TensorFlow\n",
    "from keras import layers, Model, regularizers  # Import neural network layers, Model class, and regularization functions\n",
    "from keras.applications import MobileNetV2  # Import pre-trained MobileNetV2 model architecture\n",
    "from keras.callbacks import (ModelCheckpoint, EarlyStopping,  # Import callback for saving model checkpoints and early stopping\n",
    "                                       ReduceLROnPlateau, TensorBoard,  # Import callbacks for learning rate reduction and TensorBoard logging\n",
    "                                       LearningRateScheduler, Callback)  # Import learning rate scheduler and base callback class\n",
    "from sklearn.model_selection import StratifiedShuffleSplit  # Import stratified sampling for train/test splitting\n",
    "from sklearn import metrics  # Import machine learning evaluation metrics\n",
    "import matplotlib.pyplot as plt  # Import matplotlib for creating plots and visualizations\n",
    "import seaborn as sns  # Import seaborn for statistical data visualization\n",
    "from tqdm import tqdm  # Import progress bar library for loops and operations\n",
    "import datetime  # Import module for working with dates and times\n",
    "import subprocess  # Import module for spawning new processes and executing system commands"
   ]
  },
  {
   "cell_type": "code",
   "execution_count": 4,
   "metadata": {},
   "outputs": [],
   "source": [
    "# Helper functions for directory management\n",
    "def resolve_dir(Dir):  # Define function to create directory if it doesn't exist\n",
    "    if not os.path.exists(Dir):  # Check if directory path does not exist\n",
    "        os.makedirs(Dir)  # Create the directory (including parent directories if needed)\n",
    "def reset_path(Dir):  # Define function to create/clear directory contents\n",
    "    if not os.path.exists(Dir):  # Check if directory path does not exist\n",
    "        os.makedirs(Dir)  # Create the directory if it doesn't exist\n",
    "    else:  # If directory already exists\n",
    "        # Remove files in the directory\n",
    "        for filename in os.listdir(Dir):  # Iterate through all items in the directory\n",
    "            file_path = os.path.join(Dir, filename)  # Create full path to each file/folder\n",
    "            try:  # Attempt to delete file (with error handling)\n",
    "                if os.path.isfile(file_path):  # Check if item is a file (not a subdirectory)\n",
    "                    os.remove(file_path)  # Delete the file\n",
    "            except Exception as e:  # Catch any errors during file deletion\n",
    "                print(f\"Error deleting file {file_path}: {e}\")  # Print error message with file path and error details\n",
    "# Create necessary directories\n",
    "for dir_name in ['model', 'logs', 'images']:  # Loop through list of required directory names\n",
    "    resolve_dir(dir_name)  # Create each directory if it doesn't already exist"
   ]
  },
  {
   "cell_type": "code",
   "execution_count": 5,
   "metadata": {},
   "outputs": [],
   "source": [
    "# Uncomment the following line to disable GPU support\n",
    "# os.environ[\"CUDA_VISIBLE_DEVICES\"] = \"-1\"  # Set environment variable to hide all GPU devices from CUDA, forcing TensorFlow to use CPU only"
   ]
  },
  {
   "cell_type": "code",
   "execution_count": 6,
   "metadata": {},
   "outputs": [
    {
     "name": "stdout",
     "output_type": "stream",
     "text": [
      "Linux-6.11.0-25-generic-x86_64-with-glibc2.39\n",
      "1 GPU(s) found and configured.\n",
      "nvidia-smi output:\n",
      " Thu Jun 12 17:44:45 2025       \n",
      "+-----------------------------------------------------------------------------------------+\n",
      "| NVIDIA-SMI 550.163.01             Driver Version: 550.163.01     CUDA Version: 12.4     |\n",
      "|-----------------------------------------+------------------------+----------------------+\n",
      "| GPU  Name                 Persistence-M | Bus-Id          Disp.A | Volatile Uncorr. ECC |\n",
      "| Fan  Temp   Perf          Pwr:Usage/Cap |           Memory-Usage | GPU-Util  Compute M. |\n",
      "|                                         |                        |               MIG M. |\n",
      "|=========================================+========================+======================|\n",
      "|   0  NVIDIA GeForce GTX 1650 Ti     Off |   00000000:01:00.0  On |                  N/A |\n",
      "| N/A   49C    P0             13W /   50W |      58MiB /   4096MiB |     23%      Default |\n",
      "|                                         |                        |                  N/A |\n",
      "+-----------------------------------------+------------------------+----------------------+\n",
      "                                                                                         \n",
      "+-----------------------------------------------------------------------------------------+\n",
      "| Processes:                                                                              |\n",
      "|  GPU   GI   CI        PID   Type   Process name                              GPU Memory |\n",
      "|        ID   ID                                                               Usage      |\n",
      "|=========================================================================================|\n",
      "|    0   N/A  N/A     41286      G   /usr/lib/xorg/Xorg                             53MiB |\n",
      "+-----------------------------------------------------------------------------------------+\n",
      "\n",
      "TensorFlow version: 2.19.0\n",
      "Num GPUs Available: 1\n"
     ]
    }
   ],
   "source": [
    "# Configure TensorFlow and GPU\n",
    "tf.random.set_seed(42)  # Set random seed for TensorFlow operations to ensure reproducible results\n",
    "print(platform.platform())  # Print the current operating system platform information\n",
    "# Configure GPU memory growth\n",
    "gpus = tf.config.experimental.list_physical_devices('GPU')  # Get list of all available GPU devices\n",
    "if gpus:  # Check if any GPUs were found\n",
    "    try:  # Attempt GPU configuration with error handling\n",
    "        for gpu in gpus:  # Iterate through each available GPU\n",
    "            tf.config.experimental.set_memory_growth(gpu, True)  # Enable dynamic memory allocation (prevents TensorFlow from allocating all GPU memory at once)\n",
    "        print(f\"{len(gpus)} GPU(s) found and configured.\")  # Print number of successfully configured GPUs\n",
    "    except RuntimeError as e:  # Catch runtime errors during GPU configuration\n",
    "        print(\"Error configuring GPU memory:\", e)  # Print error message if GPU configuration fails\n",
    "else:  # If no GPUs are available\n",
    "    print(\"No GPU found by TensorFlow.\")  # Inform user that no GPUs were detected\n",
    "# Check GPU status\n",
    "system_platform = platform.system()  # Get the operating system name (Linux, Windows, Darwin/macOS)\n",
    "if system_platform in ['Linux', 'Darwin', 'Windows']:  # Check if running on supported operating systems\n",
    "    try:  # Attempt to run nvidia-smi command with error handling\n",
    "        result = subprocess.run([\"nvidia-smi\"], stdout=subprocess.PIPE, stderr=subprocess.PIPE, text=True)  # Execute nvidia-smi command to get GPU information\n",
    "        if result.returncode == 0:  # Check if nvidia-smi command executed successfully\n",
    "            print(\"nvidia-smi output:\\n\", result.stdout)  # Print detailed GPU information from nvidia-smi\n",
    "        else:  # If nvidia-smi command failed\n",
    "            print(\"nvidia-smi not found or no NVIDIA GPU available.\")  # Inform user that nvidia-smi failed or no NVIDIA GPU exists\n",
    "    except FileNotFoundError:  # Catch error when nvidia-smi command is not found\n",
    "        print(\"nvidia-smi not found. Make sure NVIDIA drivers are installed.\")  # Inform user that NVIDIA drivers may not be installed\n",
    "print(\"TensorFlow version:\", tf.__version__)  # Print the currently installed TensorFlow version\n",
    "print(\"Num GPUs Available:\", len(tf.config.list_physical_devices('GPU')))  # Print the total number of GPUs available to TensorFlow"
   ]
  },
  {
   "cell_type": "code",
   "execution_count": 7,
   "metadata": {},
   "outputs": [
    {
     "name": "stdout",
     "output_type": "stream",
     "text": [
      "[name: \"/device:CPU:0\"\n",
      "device_type: \"CPU\"\n",
      "memory_limit: 268435456\n",
      "locality {\n",
      "}\n",
      "incarnation: 15662821241558330844\n",
      "xla_global_id: -1\n",
      ", name: \"/device:GPU:0\"\n",
      "device_type: \"GPU\"\n",
      "memory_limit: 2868379648\n",
      "locality {\n",
      "  bus_id: 1\n",
      "  links {\n",
      "  }\n",
      "}\n",
      "incarnation: 4061067867201967952\n",
      "physical_device_desc: \"device: 0, name: NVIDIA GeForce GTX 1650 Ti, pci bus id: 0000:01:00.0, compute capability: 7.5\"\n",
      "xla_global_id: 416903419\n",
      "]\n"
     ]
    },
    {
     "name": "stderr",
     "output_type": "stream",
     "text": [
      "I0000 00:00:1749721485.669952  111440 gpu_device.cc:2019] Created device /device:GPU:0 with 2735 MB memory:  -> device: 0, name: NVIDIA GeForce GTX 1650 Ti, pci bus id: 0000:01:00.0, compute capability: 7.5\n"
     ]
    }
   ],
   "source": [
    "from tensorflow.python.client import device_lib  # Import TensorFlow's internal device library module for accessing device information\n",
    "print(device_lib.list_local_devices())  # Print detailed information about all available devices (CPU, GPU) including device names, memory limits, and capabilities"
   ]
  },
  {
   "cell_type": "code",
   "execution_count": 8,
   "metadata": {},
   "outputs": [],
   "source": [
    "# Model hyperparameters - Improved for sequence processing\n",
    "IMG_SIZE = 128  # Set image dimensions to 224x224 pixels for input to pre-trained models (standard size for ImageNet models)\n",
    "SEQUENCE_LENGTH = 8  # Define number of consecutive frames to process as one sequence (for video/temporal analysis)\n",
    "ColorChannels = 3  # Set number of color channels (RGB = 3 channels: Red, Green, Blue)\n",
    "BATCH_SIZE = 4  # Set number of sequences to process simultaneously (small batch size due to high memory usage of sequence data)\n",
    "EPOCHS = 20  # Set total number of training iterations through the entire dataset"
   ]
  },
  {
   "cell_type": "markdown",
   "metadata": {},
   "source": [
    "## Dataset Configuration"
   ]
  },
  {
   "cell_type": "code",
   "execution_count": 9,
   "metadata": {},
   "outputs": [
    {
     "name": "stdout",
     "output_type": "stream",
     "text": [
      "Dataset path: /home/ubuntu-rainn/Projects/CCDEPLRL_PROJECT/data\n",
      "Classes: ['Violence', 'NonViolence']\n"
     ]
    }
   ],
   "source": [
    "# Base directory\n",
    "PROJECT_DIR = os.path.join(os.getcwd(), 'data')  # Create path to 'data' folder in current working directory\n",
    "print(\"Dataset path:\", PROJECT_DIR)  # Print the full path to the dataset directory\n",
    "if os.path.exists(PROJECT_DIR):  # Check if the data directory exists\n",
    "    print(\"Classes:\", os.listdir(PROJECT_DIR))  # List all subdirectories/files in data folder (typically class names for classification)\n",
    "else:  # If data directory doesn't exist\n",
    "    print(\"Warning: Data directory not found!\")  # Print warning message that dataset is missing"
   ]
  },
  {
   "cell_type": "code",
   "execution_count": 10,
   "metadata": {},
   "outputs": [],
   "source": [
    "def extract_frames_from_video(video_path, max_frames=None):  # Define function to extract frames from video file with optional frame limit\n",
    "    \"\"\"Extract frames from video with improved sampling\"\"\"  # Function docstring describing its purpose\n",
    "    frames = []  # Initialize empty list to store extracted frames\n",
    "    vidcap = cv2.VideoCapture(video_path)  # Create OpenCV VideoCapture object to read video file\n",
    "   \n",
    "    # Get video properties\n",
    "    total_frames = int(vidcap.get(cv2.CAP_PROP_FRAME_COUNT))  # Get total number of frames in the video\n",
    "    fps = vidcap.get(cv2.CAP_PROP_FPS)  # Get frames per second (frame rate) of the video\n",
    "   \n",
    "    if max_frames and total_frames > max_frames:  # Check if frame limit is specified and video exceeds that limit\n",
    "        # Sample frames evenly across the video\n",
    "        frame_indices = np.linspace(0, total_frames - 1, max_frames, dtype=int)  # Create evenly spaced frame indices across video duration\n",
    "    else:  # If no frame limit or video is short enough\n",
    "        # Take every 3rd frame to reduce redundancy while maintaining temporal info\n",
    "        frame_indices = range(0, total_frames, 3)  # Create range of every 3rd frame index to reduce data while preserving temporal information\n",
    "   \n",
    "    success = True  # Initialize flag to track if frame reading is successful\n",
    "    frame_count = 0  # Initialize counter for current frame position\n",
    "   \n",
    "    while success and frame_count < total_frames:  # Loop through video frames until end or failure\n",
    "        success, image = vidcap.read()  # Read next frame from video (returns success flag and frame data)\n",
    "        if success and frame_count in frame_indices:  # Check if frame was read successfully and is one of the selected frames\n",
    "            # Convert BGR to RGB\n",
    "            image_rgb = cv2.cvtColor(image, cv2.COLOR_BGR2RGB)  # Convert from BGR (OpenCV default) to RGB color format\n",
    "            image_resized = cv2.resize(image_rgb, (IMG_SIZE, IMG_SIZE))  # Resize frame to specified dimensions (224x224)\n",
    "            frames.append(image_resized)  # Add processed frame to the frames list\n",
    "        frame_count += 1  # Increment frame counter\n",
    "   \n",
    "    vidcap.release()  # Release video capture object to free memory\n",
    "    return np.array(frames)  # Convert frames list to NumPy array and return"
   ]
  },
  {
   "cell_type": "code",
   "execution_count": 11,
   "metadata": {},
   "outputs": [],
   "source": [
    "def create_sequences(frames, sequence_length=SEQUENCE_LENGTH):  # Define function to create frame sequences with default length from global variable\n",
    "    \"\"\"Create sequences of frames for temporal analysis\"\"\"  # Function docstring describing its purpose\n",
    "    sequences = []  # Initialize empty list to store frame sequences\n",
    "   \n",
    "    if len(frames) < sequence_length:  # Check if available frames are fewer than required sequence length\n",
    "        # If not enough frames, pad with last frame\n",
    "        padding_needed = sequence_length - len(frames)  # Calculate how many additional frames are needed\n",
    "        if len(frames) > 0:  # Check if there are any frames available\n",
    "            padded_frames = np.concatenate([frames,  # Combine original frames with padding\n",
    "                                          np.repeat(frames[-1:], padding_needed, axis=0)])  # Repeat the last frame to fill missing positions\n",
    "        else:  # If no frames are available at all\n",
    "            # If no frames at all, create black frames\n",
    "            padded_frames = np.zeros((sequence_length, IMG_SIZE, IMG_SIZE, ColorChannels))  # Create sequence of black/zero frames with correct dimensions\n",
    "        sequences.append(padded_frames)  # Add the padded sequence to sequences list\n",
    "    else:  # If there are enough frames for at least one complete sequence\n",
    "        # Create overlapping sequences\n",
    "        for i in range(0, len(frames) - sequence_length + 1, sequence_length // 2):  # Loop with step size of half sequence length for overlap\n",
    "            sequence = frames[i:i + sequence_length]  # Extract consecutive frames for one sequence\n",
    "            sequences.append(sequence)  # Add the sequence to sequences list\n",
    "   \n",
    "    return np.array(sequences)  # Convert sequences list to NumPy array and return"
   ]
  },
  {
   "cell_type": "markdown",
   "metadata": {},
   "source": [
    "## Load and Prepare Dataset"
   ]
  },
  {
   "cell_type": "code",
   "execution_count": 12,
   "metadata": {},
   "outputs": [
    {
     "name": "stdout",
     "output_type": "stream",
     "text": [
      "Processing NonViolence data...\n"
     ]
    },
    {
     "name": "stderr",
     "output_type": "stream",
     "text": [
      "Processing NonViolence videos: 100%|██████████| 1000/1000 [00:00<00:00, 2743168.08it/s]"
     ]
    },
    {
     "name": "stderr",
     "output_type": "stream",
     "text": [
      "\n"
     ]
    },
    {
     "name": "stdout",
     "output_type": "stream",
     "text": [
      "Processing Violence data...\n"
     ]
    },
    {
     "name": "stderr",
     "output_type": "stream",
     "text": [
      "Processing Violence videos: 100%|██████████| 1000/1000 [00:00<00:00, 1685813.50it/s]\n"
     ]
    }
   ],
   "source": [
    "VideoDataDir = (\n",
    "    PROJECT_DIR  # Set the video data directory to the previously defined 'data' folder\n",
    ")\n",
    "CLASSES = [\"NonViolence\", \"Violence\"]  # Define the two classification categories\n",
    "MAX_VIDEOS_PER_CLASS = 30000 # Limit the number of videos processed per class\n",
    "\n",
    "# Each entry in this list will represent a potential video to process into sequences\n",
    "video_paths_and_labels = []\n",
    "\n",
    "# Loop through each class/category\n",
    "for category in CLASSES:\n",
    "    path = os.path.join(\n",
    "        VideoDataDir, category\n",
    "    )  # Build the full path to the class directory\n",
    "    if not os.path.exists(path):\n",
    "        print(\n",
    "            f\"Warning: Directory {path} does not exist!\"\n",
    "        )  # Warn if the directory doesn't exist\n",
    "        continue\n",
    "\n",
    "    print(f\"Processing {category} data...\")\n",
    "    class_num = CLASSES.index(category)  # Assign numerical label based on class index\n",
    "\n",
    "    # Get list of image files in the directory (assuming frames are extracted and saved as images)\n",
    "    image_files = [f for f in os.listdir(path) if f.endswith((\".jpg\", \".png\", \".jpeg\"))]\n",
    "\n",
    "    if not image_files:\n",
    "        print(f\"No image files found in {path}\")  # Skip if no images are found\n",
    "        continue\n",
    "\n",
    "    # Group images by video, assuming filenames are like \"video1-001.jpg\"\n",
    "    video_groups = {}\n",
    "    for img_file in image_files:\n",
    "        video_name = img_file.split(\"-\")[0]  # Extract the base video name (before dash)\n",
    "        if video_name not in video_groups:\n",
    "            video_groups[video_name] = []\n",
    "        video_groups[video_name].append(img_file)\n",
    "\n",
    "    # Process each video group (images grouped by video)\n",
    "    processed_videos = 0  # Counter to limit the number of videos per class\n",
    "    for video_name, img_files in tqdm(\n",
    "        video_groups.items(), desc=f\"Processing {category} videos\"\n",
    "    ):\n",
    "        video_paths_and_labels.append((path, img_files, class_num))\n",
    "        processed_videos += 1  # Count this video as processed"
   ]
  },
  {
   "cell_type": "code",
   "execution_count": 13,
   "metadata": {},
   "outputs": [],
   "source": [
    "video_info = [item[0:2] for item in video_paths_and_labels] # (path, img_files_list)\n",
    "video_labels = [item[2] for item in video_paths_and_labels] # 0 or 1\n"
   ]
  },
  {
   "cell_type": "markdown",
   "metadata": {},
   "source": [
    "## Split Data into Training and Testing Sets"
   ]
  },
  {
   "cell_type": "code",
   "execution_count": 14,
   "metadata": {},
   "outputs": [],
   "source": [
    "# pick testing and training through shuffle\n",
    "stratified_splitter = StratifiedShuffleSplit(n_splits=1, test_size=0.2, random_state=42)\n",
    "for train_vid_info, test_vid_info in stratified_splitter.split(video_info, video_labels):\n",
    "    vids_train = [video_paths_and_labels[i] for i in train_vid_info]\n",
    "    vids_test = [video_paths_and_labels[i] for i in test_vid_info]"
   ]
  },
  {
   "cell_type": "code",
   "execution_count": 15,
   "metadata": {},
   "outputs": [
    {
     "name": "stderr",
     "output_type": "stream",
     "text": [
      "I0000 00:00:1749721485.847980  111440 gpu_device.cc:2019] Created device /job:localhost/replica:0/task:0/device:GPU:0 with 2735 MB memory:  -> device: 0, name: NVIDIA GeForce GTX 1650 Ti, pci bus id: 0000:01:00.0, compute capability: 7.5\n"
     ]
    }
   ],
   "source": [
    "# This generator will yield/return (sequence, label) tuples\n",
    "def sequence_generator(video_data_list):\n",
    "    for video_dir, img_files_list, class_num in video_data_list:\n",
    "        # Sort the image files based on frame number\n",
    "        img_files_list.sort(key=lambda x: int(x.split(\"-\")[1].split(\".\")[0]))\n",
    "\n",
    "        frames = [] # List to store frames of this video\n",
    "        for img_file in img_files_list:\n",
    "            img_path = os.path.join(video_dir, img_file)\n",
    "            try:\n",
    "                img = cv2.imread(img_path) # Read image using OpenCV\n",
    "                if img is not None:\n",
    "                    img_rgb = cv2.cvtColor(img, cv2.COLOR_BGR2RGB) # Convert BGR to RGB\n",
    "                    img_resized = cv2.resize(img_rgb, (IMG_SIZE, IMG_SIZE)) # Resize to model input size\n",
    "                    frames.append(img_resized) # Append to frame list\n",
    "            except Exception as e:\n",
    "                print(f\"Error processing {img_path}: {e}\")\n",
    "                continue\n",
    "\n",
    "        if len(frames) > 0:\n",
    "            # Convert frames into temporal sequences\n",
    "            sequences = create_sequences(np.array(frames))\n",
    "\n",
    "            \n",
    "            for sequence in sequences:\n",
    "                # Add each sequence to the dataset (through yield and lambda)\n",
    "                yield sequence.astype(np.float32) / 255.0, class_num \n",
    "                \n",
    "output_signature = (\n",
    "    tf.TensorSpec(shape=(SEQUENCE_LENGTH, IMG_SIZE, IMG_SIZE, ColorChannels), dtype=tf.float32),\n",
    "    tf.TensorSpec(shape=(), dtype=tf.int32)\n",
    ")\n",
    "train_ds = tf.data.Dataset.from_generator(lambda: sequence_generator(vids_train), output_signature=output_signature)\n",
    "test_ds = tf.data.Dataset.from_generator(lambda: sequence_generator(vids_test), output_signature=output_signature)\n",
    "\n",
    "train_ds = train_ds.batch(BATCH_SIZE).prefetch(tf.data.AUTOTUNE)\n",
    "test_ds = test_ds.batch(BATCH_SIZE).prefetch(tf.data.AUTOTUNE)"
   ]
  },
  {
   "cell_type": "markdown",
   "metadata": {},
   "source": [
    "## Define and Build the MobileNetV2 Model"
   ]
  },
  {
   "cell_type": "code",
   "execution_count": 16,
   "metadata": {},
   "outputs": [],
   "source": [
    "# Build MobileNetV2 + GRU model\n",
    "def build_mobilenetv2_gru_model():  # Define function to build hybrid CNN-RNN model\n",
    "    \"\"\"Build a model combining MobileNetV2 feature extraction with GRU temporal modeling\"\"\"  # Function docstring\n",
    "   \n",
    "    # Input for sequences\n",
    "    sequence_input = layers.Input(shape=(SEQUENCE_LENGTH, IMG_SIZE, IMG_SIZE, ColorChannels))  # Define input layer for video sequences with shape (frames, height, width, channels)\n",
    "   \n",
    "    # Create MobileNetV2 base model (without top layers)\n",
    "    mobilenet_base = MobileNetV2(  # Create MobileNetV2 pre-trained model\n",
    "        input_shape=(IMG_SIZE, IMG_SIZE, ColorChannels),  # Set input shape for individual frames\n",
    "        include_top=False,  # Exclude final classification layers to use as feature extractor\n",
    "        weights='imagenet',  # Load pre-trained ImageNet weights\n",
    "        pooling='avg',  # Use global average pooling instead of flattening\n",
    "        alpha=1.0  # Use full model width (no compression) for better feature extraction\n",
    "    )\n",
    "   \n",
    "    # Freeze MobileNetV2 layers initially\n",
    "    mobilenet_base.trainable = False  # Freeze pre-trained weights to prevent updating during initial training\n",
    "   \n",
    "    # Apply MobileNetV2 to each frame in the sequence\n",
    "    encoded_frames = layers.TimeDistributed(mobilenet_base)(sequence_input)  # Apply CNN to each frame independently using TimeDistributed wrapper\n",
    "   \n",
    "    # Add additional dense layer for feature refinement\n",
    "    encoded_frames = layers.TimeDistributed(  # Apply dense layer to each frame's features\n",
    "        layers.Dense(512, activation='relu')  # Add fully connected layer with 512 neurons and ReLU activation\n",
    "    )(encoded_frames)\n",
    "   \n",
    "    # Add dropout for regularization\n",
    "    encoded_frames = layers.TimeDistributed(  # Apply dropout to each frame's features\n",
    "        layers.Dropout(0.3)  # Set dropout rate to 30% to prevent overfitting\n",
    "    )(encoded_frames)\n",
    "   \n",
    "    # GRU layers for temporal modeling\n",
    "    gru1 = layers.GRU(  # First GRU layer for temporal sequence modeling\n",
    "        256,  # Set 256 hidden units\n",
    "        return_sequences=True,  # Return full sequence (not just last output) for next GRU layer\n",
    "        dropout=0.3,  # Apply 30% dropout to inputs\n",
    "        recurrent_dropout=0.2,  # Apply 20% dropout to recurrent connections\n",
    "        kernel_regularizer=regularizers.l2(0.001)  # Apply L2 regularization with weight 0.001\n",
    "    )(encoded_frames)\n",
    "   \n",
    "    gru2 = layers.GRU(  # Second GRU layer for deeper temporal modeling\n",
    "        128,  # Set 128 hidden units (smaller than first layer)\n",
    "        return_sequences=False,  # Return only last output (sequence-to-one)\n",
    "        dropout=0.3,  # Apply 30% dropout to inputs\n",
    "        recurrent_dropout=0.2,  # Apply 20% dropout to recurrent connections\n",
    "        kernel_regularizer=regularizers.l2(0.001)  # Apply L2 regularization with weight 0.001\n",
    "    )(gru1)\n",
    "   \n",
    "    # Final classification layers\n",
    "    dense1 = layers.Dense(  # First dense layer for classification\n",
    "        64,  # Set 64 neurons\n",
    "        activation='relu',  # Use ReLU activation function\n",
    "        kernel_regularizer=regularizers.l2(0.001)  # Apply L2 regularization with weight 0.001\n",
    "    )(gru2)\n",
    "   \n",
    "    dropout_final = layers.Dropout(0.5)(dense1)  # Apply 50% dropout before final output layer\n",
    "   \n",
    "    # Output layer\n",
    "    output = layers.Dense(1, activation='sigmoid')(dropout_final)  # Single neuron with sigmoid activation for binary classification (0-1 probability)\n",
    "   \n",
    "    # Create model\n",
    "    model = Model(inputs=sequence_input, outputs=output)  # Create Keras model with defined input and output layers\n",
    "   \n",
    "    return model, mobilenet_base  # Return both the complete model and the MobileNet base for potential fine-tuning"
   ]
  },
  {
   "cell_type": "code",
   "execution_count": 17,
   "metadata": {},
   "outputs": [
    {
     "name": "stdout",
     "output_type": "stream",
     "text": [
      "Building MobileNetV2 + GRU model...\n",
      "Model compiled successfully!\n"
     ]
    },
    {
     "data": {
      "text/html": [
       "<pre style=\"white-space:pre;overflow-x:auto;line-height:normal;font-family:Menlo,'DejaVu Sans Mono',consolas,'Courier New',monospace\"><span style=\"font-weight: bold\">Model: \"functional\"</span>\n",
       "</pre>\n"
      ],
      "text/plain": [
       "\u001b[1mModel: \"functional\"\u001b[0m\n"
      ]
     },
     "metadata": {},
     "output_type": "display_data"
    },
    {
     "data": {
      "text/html": [
       "<pre style=\"white-space:pre;overflow-x:auto;line-height:normal;font-family:Menlo,'DejaVu Sans Mono',consolas,'Courier New',monospace\">┏━━━━━━━━━━━━━━━━━━━━━━━━━━━━━━━━━┳━━━━━━━━━━━━━━━━━━━━━━━━┳━━━━━━━━━━━━━━━┓\n",
       "┃<span style=\"font-weight: bold\"> Layer (type)                    </span>┃<span style=\"font-weight: bold\"> Output Shape           </span>┃<span style=\"font-weight: bold\">       Param # </span>┃\n",
       "┡━━━━━━━━━━━━━━━━━━━━━━━━━━━━━━━━━╇━━━━━━━━━━━━━━━━━━━━━━━━╇━━━━━━━━━━━━━━━┩\n",
       "│ input_layer (<span style=\"color: #0087ff; text-decoration-color: #0087ff\">InputLayer</span>)        │ (<span style=\"color: #00d7ff; text-decoration-color: #00d7ff\">None</span>, <span style=\"color: #00af00; text-decoration-color: #00af00\">8</span>, <span style=\"color: #00af00; text-decoration-color: #00af00\">128</span>, <span style=\"color: #00af00; text-decoration-color: #00af00\">128</span>, <span style=\"color: #00af00; text-decoration-color: #00af00\">3</span>) │             <span style=\"color: #00af00; text-decoration-color: #00af00\">0</span> │\n",
       "├─────────────────────────────────┼────────────────────────┼───────────────┤\n",
       "│ time_distributed                │ (<span style=\"color: #00d7ff; text-decoration-color: #00d7ff\">None</span>, <span style=\"color: #00af00; text-decoration-color: #00af00\">8</span>, <span style=\"color: #00af00; text-decoration-color: #00af00\">1280</span>)        │     <span style=\"color: #00af00; text-decoration-color: #00af00\">2,257,984</span> │\n",
       "│ (<span style=\"color: #0087ff; text-decoration-color: #0087ff\">TimeDistributed</span>)               │                        │               │\n",
       "├─────────────────────────────────┼────────────────────────┼───────────────┤\n",
       "│ time_distributed_1              │ (<span style=\"color: #00d7ff; text-decoration-color: #00d7ff\">None</span>, <span style=\"color: #00af00; text-decoration-color: #00af00\">8</span>, <span style=\"color: #00af00; text-decoration-color: #00af00\">512</span>)         │       <span style=\"color: #00af00; text-decoration-color: #00af00\">655,872</span> │\n",
       "│ (<span style=\"color: #0087ff; text-decoration-color: #0087ff\">TimeDistributed</span>)               │                        │               │\n",
       "├─────────────────────────────────┼────────────────────────┼───────────────┤\n",
       "│ time_distributed_2              │ (<span style=\"color: #00d7ff; text-decoration-color: #00d7ff\">None</span>, <span style=\"color: #00af00; text-decoration-color: #00af00\">8</span>, <span style=\"color: #00af00; text-decoration-color: #00af00\">512</span>)         │             <span style=\"color: #00af00; text-decoration-color: #00af00\">0</span> │\n",
       "│ (<span style=\"color: #0087ff; text-decoration-color: #0087ff\">TimeDistributed</span>)               │                        │               │\n",
       "├─────────────────────────────────┼────────────────────────┼───────────────┤\n",
       "│ gru (<span style=\"color: #0087ff; text-decoration-color: #0087ff\">GRU</span>)                       │ (<span style=\"color: #00d7ff; text-decoration-color: #00d7ff\">None</span>, <span style=\"color: #00af00; text-decoration-color: #00af00\">8</span>, <span style=\"color: #00af00; text-decoration-color: #00af00\">256</span>)         │       <span style=\"color: #00af00; text-decoration-color: #00af00\">591,360</span> │\n",
       "├─────────────────────────────────┼────────────────────────┼───────────────┤\n",
       "│ gru_1 (<span style=\"color: #0087ff; text-decoration-color: #0087ff\">GRU</span>)                     │ (<span style=\"color: #00d7ff; text-decoration-color: #00d7ff\">None</span>, <span style=\"color: #00af00; text-decoration-color: #00af00\">128</span>)            │       <span style=\"color: #00af00; text-decoration-color: #00af00\">148,224</span> │\n",
       "├─────────────────────────────────┼────────────────────────┼───────────────┤\n",
       "│ dense_1 (<span style=\"color: #0087ff; text-decoration-color: #0087ff\">Dense</span>)                 │ (<span style=\"color: #00d7ff; text-decoration-color: #00d7ff\">None</span>, <span style=\"color: #00af00; text-decoration-color: #00af00\">64</span>)             │         <span style=\"color: #00af00; text-decoration-color: #00af00\">8,256</span> │\n",
       "├─────────────────────────────────┼────────────────────────┼───────────────┤\n",
       "│ dropout_1 (<span style=\"color: #0087ff; text-decoration-color: #0087ff\">Dropout</span>)             │ (<span style=\"color: #00d7ff; text-decoration-color: #00d7ff\">None</span>, <span style=\"color: #00af00; text-decoration-color: #00af00\">64</span>)             │             <span style=\"color: #00af00; text-decoration-color: #00af00\">0</span> │\n",
       "├─────────────────────────────────┼────────────────────────┼───────────────┤\n",
       "│ dense_2 (<span style=\"color: #0087ff; text-decoration-color: #0087ff\">Dense</span>)                 │ (<span style=\"color: #00d7ff; text-decoration-color: #00d7ff\">None</span>, <span style=\"color: #00af00; text-decoration-color: #00af00\">1</span>)              │            <span style=\"color: #00af00; text-decoration-color: #00af00\">65</span> │\n",
       "└─────────────────────────────────┴────────────────────────┴───────────────┘\n",
       "</pre>\n"
      ],
      "text/plain": [
       "┏━━━━━━━━━━━━━━━━━━━━━━━━━━━━━━━━━┳━━━━━━━━━━━━━━━━━━━━━━━━┳━━━━━━━━━━━━━━━┓\n",
       "┃\u001b[1m \u001b[0m\u001b[1mLayer (type)                   \u001b[0m\u001b[1m \u001b[0m┃\u001b[1m \u001b[0m\u001b[1mOutput Shape          \u001b[0m\u001b[1m \u001b[0m┃\u001b[1m \u001b[0m\u001b[1m      Param #\u001b[0m\u001b[1m \u001b[0m┃\n",
       "┡━━━━━━━━━━━━━━━━━━━━━━━━━━━━━━━━━╇━━━━━━━━━━━━━━━━━━━━━━━━╇━━━━━━━━━━━━━━━┩\n",
       "│ input_layer (\u001b[38;5;33mInputLayer\u001b[0m)        │ (\u001b[38;5;45mNone\u001b[0m, \u001b[38;5;34m8\u001b[0m, \u001b[38;5;34m128\u001b[0m, \u001b[38;5;34m128\u001b[0m, \u001b[38;5;34m3\u001b[0m) │             \u001b[38;5;34m0\u001b[0m │\n",
       "├─────────────────────────────────┼────────────────────────┼───────────────┤\n",
       "│ time_distributed                │ (\u001b[38;5;45mNone\u001b[0m, \u001b[38;5;34m8\u001b[0m, \u001b[38;5;34m1280\u001b[0m)        │     \u001b[38;5;34m2,257,984\u001b[0m │\n",
       "│ (\u001b[38;5;33mTimeDistributed\u001b[0m)               │                        │               │\n",
       "├─────────────────────────────────┼────────────────────────┼───────────────┤\n",
       "│ time_distributed_1              │ (\u001b[38;5;45mNone\u001b[0m, \u001b[38;5;34m8\u001b[0m, \u001b[38;5;34m512\u001b[0m)         │       \u001b[38;5;34m655,872\u001b[0m │\n",
       "│ (\u001b[38;5;33mTimeDistributed\u001b[0m)               │                        │               │\n",
       "├─────────────────────────────────┼────────────────────────┼───────────────┤\n",
       "│ time_distributed_2              │ (\u001b[38;5;45mNone\u001b[0m, \u001b[38;5;34m8\u001b[0m, \u001b[38;5;34m512\u001b[0m)         │             \u001b[38;5;34m0\u001b[0m │\n",
       "│ (\u001b[38;5;33mTimeDistributed\u001b[0m)               │                        │               │\n",
       "├─────────────────────────────────┼────────────────────────┼───────────────┤\n",
       "│ gru (\u001b[38;5;33mGRU\u001b[0m)                       │ (\u001b[38;5;45mNone\u001b[0m, \u001b[38;5;34m8\u001b[0m, \u001b[38;5;34m256\u001b[0m)         │       \u001b[38;5;34m591,360\u001b[0m │\n",
       "├─────────────────────────────────┼────────────────────────┼───────────────┤\n",
       "│ gru_1 (\u001b[38;5;33mGRU\u001b[0m)                     │ (\u001b[38;5;45mNone\u001b[0m, \u001b[38;5;34m128\u001b[0m)            │       \u001b[38;5;34m148,224\u001b[0m │\n",
       "├─────────────────────────────────┼────────────────────────┼───────────────┤\n",
       "│ dense_1 (\u001b[38;5;33mDense\u001b[0m)                 │ (\u001b[38;5;45mNone\u001b[0m, \u001b[38;5;34m64\u001b[0m)             │         \u001b[38;5;34m8,256\u001b[0m │\n",
       "├─────────────────────────────────┼────────────────────────┼───────────────┤\n",
       "│ dropout_1 (\u001b[38;5;33mDropout\u001b[0m)             │ (\u001b[38;5;45mNone\u001b[0m, \u001b[38;5;34m64\u001b[0m)             │             \u001b[38;5;34m0\u001b[0m │\n",
       "├─────────────────────────────────┼────────────────────────┼───────────────┤\n",
       "│ dense_2 (\u001b[38;5;33mDense\u001b[0m)                 │ (\u001b[38;5;45mNone\u001b[0m, \u001b[38;5;34m1\u001b[0m)              │            \u001b[38;5;34m65\u001b[0m │\n",
       "└─────────────────────────────────┴────────────────────────┴───────────────┘\n"
      ]
     },
     "metadata": {},
     "output_type": "display_data"
    },
    {
     "data": {
      "text/html": [
       "<pre style=\"white-space:pre;overflow-x:auto;line-height:normal;font-family:Menlo,'DejaVu Sans Mono',consolas,'Courier New',monospace\"><span style=\"font-weight: bold\"> Total params: </span><span style=\"color: #00af00; text-decoration-color: #00af00\">3,661,761</span> (13.97 MB)\n",
       "</pre>\n"
      ],
      "text/plain": [
       "\u001b[1m Total params: \u001b[0m\u001b[38;5;34m3,661,761\u001b[0m (13.97 MB)\n"
      ]
     },
     "metadata": {},
     "output_type": "display_data"
    },
    {
     "data": {
      "text/html": [
       "<pre style=\"white-space:pre;overflow-x:auto;line-height:normal;font-family:Menlo,'DejaVu Sans Mono',consolas,'Courier New',monospace\"><span style=\"font-weight: bold\"> Trainable params: </span><span style=\"color: #00af00; text-decoration-color: #00af00\">1,403,777</span> (5.35 MB)\n",
       "</pre>\n"
      ],
      "text/plain": [
       "\u001b[1m Trainable params: \u001b[0m\u001b[38;5;34m1,403,777\u001b[0m (5.35 MB)\n"
      ]
     },
     "metadata": {},
     "output_type": "display_data"
    },
    {
     "data": {
      "text/html": [
       "<pre style=\"white-space:pre;overflow-x:auto;line-height:normal;font-family:Menlo,'DejaVu Sans Mono',consolas,'Courier New',monospace\"><span style=\"font-weight: bold\"> Non-trainable params: </span><span style=\"color: #00af00; text-decoration-color: #00af00\">2,257,984</span> (8.61 MB)\n",
       "</pre>\n"
      ],
      "text/plain": [
       "\u001b[1m Non-trainable params: \u001b[0m\u001b[38;5;34m2,257,984\u001b[0m (8.61 MB)\n"
      ]
     },
     "metadata": {},
     "output_type": "display_data"
    }
   ],
   "source": [
    "# Build the model\n",
    "print(\"Building MobileNetV2 + GRU model...\")  # Print status message for model building\n",
    "model, mobilenet_base = build_mobilenetv2_gru_model()  # Call function to create model and get both complete model and MobileNet base\n",
    "# Compile model with improved optimizer settings\n",
    "model.compile(  # Configure model for training\n",
    "    optimizer=keras.optimizers.Adam(  # Use Adam optimizer with custom parameters\n",
    "        learning_rate=0.0001,  # Set learning rate to 0.0001 (conservative for fine-tuning)\n",
    "        beta_1=0.9,  # Set first moment decay rate (default value for momentum)\n",
    "        beta_2=0.999,  # Set second moment decay rate (default value for RMSprop-like behavior)\n",
    "        epsilon=1e-7  # Set small constant to prevent division by zero in optimizer\n",
    "    ),\n",
    "    loss='binary_crossentropy',  # Use binary cross-entropy loss for binary classification\n",
    "    metrics=['accuracy', 'precision', 'recall']  # Track accuracy, precision, and recall during training\n",
    ")\n",
    "print(\"Model compiled successfully!\")  # Print confirmation message\n",
    "model.summary()  # Display detailed model architecture summary with layer information and parameter counts"
   ]
  },
  {
   "cell_type": "code",
   "execution_count": 18,
   "metadata": {},
   "outputs": [],
   "source": [
    "# Advanced learning rate scheduling\n",
    "def cosine_annealing_with_warmup(epoch, warmup_epochs=5, total_epochs=EPOCHS,  # Define function with epoch number and training parameters\n",
    "                                min_lr=1e-6, max_lr=1e-3):  # Set minimum and maximum learning rates\n",
    "    \"\"\"Cosine annealing with warmup\"\"\"  # Function docstring describing the learning rate strategy\n",
    "    if epoch < warmup_epochs:  # Check if current epoch is in warmup phase\n",
    "        return min_lr + (max_lr - min_lr) * epoch / warmup_epochs  # Linear increase from min_lr to max_lr during warmup\n",
    "    else:  # If past warmup phase, enter cosine annealing phase\n",
    "        progress = (epoch - warmup_epochs) / (total_epochs - warmup_epochs)  # Calculate progress through annealing phase (0 to 1)\n",
    "        return min_lr + (max_lr - min_lr) * 0.5 * (1 + np.cos(np.pi * progress))  # Apply cosine decay from max_lr to min_lr"
   ]
  },
  {
   "cell_type": "code",
   "execution_count": 19,
   "metadata": {},
   "outputs": [],
   "source": [
    "class GradualUnfreezing(Callback):  # Define custom callback class for progressive layer unfreezing\n",
    "    \"\"\"Gradually unfreeze MobileNetV2 layers during training\"\"\"  # Class docstring\n",
    "    def __init__(self, mobilenet_base, unfreeze_epoch=15):  # Initialize callback with MobileNet model and unfreezing epoch\n",
    "        super().__init__()  # Call parent class constructor\n",
    "        self.mobilenet_base = mobilenet_base  # Store reference to MobileNet base model\n",
    "        self.unfreeze_epoch = unfreeze_epoch  # Set epoch number when to unfreeze layers\n",
    "        self.unfrozen = False  # Initialize flag to track if unfreezing has occurred\n",
    "   \n",
    "    def on_epoch_begin(self, epoch, logs=None):  # Define method called at beginning of each epoch\n",
    "        if epoch == self.unfreeze_epoch and not self.unfrozen:  # Check if target epoch reached and not already unfrozen\n",
    "            print(f\"\\nUnfreezing MobileNetV2 layers at epoch {epoch}\")  # Print unfreezing notification\n",
    "            self.mobilenet_base.trainable = True  # Enable training for all MobileNet layers\n",
    "           \n",
    "            # Use lower learning rate for fine-tuning\n",
    "            self.model.optimizer.learning_rate = 1e-5  # Reduce learning rate for fine-tuning pre-trained layers\n",
    "            self.unfrozen = True  # Set flag to prevent multiple unfreezing"
   ]
  },
  {
   "cell_type": "markdown",
   "metadata": {},
   "source": [
    "## Set Up Callbacks and Training Parameters"
   ]
  },
  {
   "cell_type": "code",
   "execution_count": 20,
   "metadata": {},
   "outputs": [],
   "source": [
    "# Enhanced early stopping callback\n",
    "class EnhancedEarlyStopping(Callback):  # Define custom callback class inheriting from Keras Callback\n",
    "    \"\"\"Enhanced early stopping with accuracy threshold\"\"\"  # Class docstring\n",
    "    def __init__(self, patience=10, min_delta=0.001, accuracy_threshold=0.98):  # Initialize callback with parameters\n",
    "        super().__init__()  # Call parent class constructor\n",
    "        self.patience = patience  # Set number of epochs to wait before stopping\n",
    "        self.min_delta = min_delta  # Set minimum improvement threshold for validation loss\n",
    "        self.accuracy_threshold = accuracy_threshold  # Set target accuracy to trigger early stopping\n",
    "        self.best_loss = np.inf  # Initialize best validation loss to infinity\n",
    "        self.wait = 0  # Initialize counter for epochs without improvement\n",
    "        self.best_weights = None  # Initialize storage for best model weights\n",
    "   \n",
    "    def on_epoch_end(self, epoch, logs=None):  # Define method called at end of each epoch\n",
    "        current_loss = logs.get('val_loss')  # Get current validation loss from training logs\n",
    "        current_accuracy = logs.get('val_accuracy')  # Get current validation accuracy from training logs\n",
    "       \n",
    "        # Stop if accuracy threshold is reached\n",
    "        if current_accuracy and current_accuracy >= self.accuracy_threshold:  # Check if accuracy threshold is met\n",
    "            print(f\"\\nAccuracy threshold {self.accuracy_threshold} reached! Stopping training.\")  # Print success message\n",
    "            self.model.stop_training = True  # Signal Keras to stop training\n",
    "            return  # Exit method early\n",
    "       \n",
    "        # Regular early stopping logic\n",
    "        if current_loss < self.best_loss - self.min_delta:  # Check if validation loss improved significantly\n",
    "            self.best_loss = current_loss  # Update best loss record\n",
    "            self.wait = 0  # Reset patience counter\n",
    "            self.best_weights = self.model.get_weights()  # Save current weights as best\n",
    "        else:  # If no significant improvement\n",
    "            self.wait += 1  # Increment patience counter\n",
    "            if self.wait >= self.patience:  # Check if patience limit reached\n",
    "                print(f\"\\nEarly stopping at epoch {epoch + 1}\")  # Print early stopping message\n",
    "                if self.best_weights is not None:  # Check if best weights were saved\n",
    "                    self.model.set_weights(self.best_weights)  # Restore best weights to model\n",
    "                self.model.stop_training = True  # Signal Keras to stop training"
   ]
  },
  {
   "cell_type": "code",
   "execution_count": 21,
   "metadata": {},
   "outputs": [],
   "source": [
    "# Setup callbacks\n",
    "log_dir = f\"logs/fit/{datetime.datetime.now().strftime('%Y%m%d-%H%M%S')}\"  # Create timestamped directory path for TensorBoard logs\n",
    "checkpoint_path = 'model/gru.weights.h5'  # Set file path for saving best model weights\n",
    "model_save_path = 'model/gru.h5'  # Set file path for saving complete model\n",
    "callbacks = [  # Initialize list of training callbacks\n",
    "    # Learning rate scheduling\n",
    "    LearningRateScheduler(cosine_annealing_with_warmup, verbose=1),  # Apply custom learning rate schedule with progress output\n",
    "   \n",
    "    # Model checkpointing\n",
    "    ModelCheckpoint(  # Save best model weights during training\n",
    "        filepath=checkpoint_path,  # Set file path for saving weights\n",
    "        monitor='val_loss',  # Monitor validation loss to determine best model\n",
    "        save_best_only=True,  # Only save when validation loss improves\n",
    "        save_weights_only=True,  # Save only weights (not full model architecture)\n",
    "        mode='min',  # Save when monitored metric decreases\n",
    "        verbose=1  # Print message when saving\n",
    "    ),\n",
    "   \n",
    "    # Enhanced early stopping\n",
    "    EnhancedEarlyStopping(patience=15, min_delta=0.001, accuracy_threshold=0.95),  # Use custom early stopping with 15 epoch patience and 95% accuracy threshold\n",
    "   \n",
    "    # Reduce learning rate on plateau\n",
    "    ReduceLROnPlateau(  # Reduce learning rate when validation loss plateaus\n",
    "        monitor='val_loss',  # Monitor validation loss for plateau detection\n",
    "        factor=0.5,  # Multiply learning rate by 0.5 when plateau detected\n",
    "        patience=5,  # Wait 5 epochs before reducing learning rate\n",
    "        min_lr=1e-7,  # Set minimum learning rate limit\n",
    "        verbose=1  # Print message when reducing learning rate\n",
    "    ),\n",
    "   \n",
    "    # TensorBoard logging\n",
    "    TensorBoard(  # Enable TensorBoard visualization and logging\n",
    "        log_dir=log_dir,  # Set directory for TensorBoard logs\n",
    "        histogram_freq=1,  # Log weight histograms every epoch\n",
    "        write_graph=True,  # Save model graph structure\n",
    "        write_images=True  # Save sample images to TensorBoard\n",
    "    ),\n",
    "   \n",
    "    # Gradual unfreezing\n",
    "    GradualUnfreezing(mobilenet_base, unfreeze_epoch=20)  # Gradually unfreeze MobileNet layers starting at epoch 20\n",
    "]"
   ]
  },
  {
   "cell_type": "markdown",
   "metadata": {},
   "source": [
    "## Train the Model"
   ]
  },
  {
   "cell_type": "code",
   "execution_count": 22,
   "metadata": {},
   "outputs": [
    {
     "name": "stdout",
     "output_type": "stream",
     "text": [
      "Starting training...\n",
      "\n",
      "Epoch 1: LearningRateScheduler setting learning rate to 1e-06.\n",
      "Epoch 1/20\n"
     ]
    },
    {
     "name": "stderr",
     "output_type": "stream",
     "text": [
      "I0000 00:00:1749721518.338151  114025 cuda_dnn.cc:529] Loaded cuDNN version 90300\n"
     ]
    },
    {
     "name": "stdout",
     "output_type": "stream",
     "text": [
      "   2387/Unknown \u001b[1m257s\u001b[0m 94ms/step - accuracy: 0.5638 - loss: 1.7049 - precision: 0.6367 - recall: 0.6946"
     ]
    },
    {
     "name": "stderr",
     "output_type": "stream",
     "text": [
      "2025-06-12 17:49:05.662788: I tensorflow/core/framework/local_rendezvous.cc:407] Local rendezvous is aborting with status: OUT_OF_RANGE: End of sequence\n",
      "\t [[{{node IteratorGetNext}}]]\n",
      "2025-06-12 17:49:05.663263: I tensorflow/core/framework/local_rendezvous.cc:407] Local rendezvous is aborting with status: OUT_OF_RANGE: End of sequence\n",
      "\t [[{{node IteratorGetNext}}]]\n",
      "\t [[IteratorGetNext/_2]]\n",
      "/home/ubuntu-rainn/Projects/CCDEPLRL_PROJECT/tf_env/lib/python3.12/site-packages/keras/src/trainers/epoch_iterator.py:160: UserWarning: Your input ran out of data; interrupting training. Make sure that your dataset or generator can generate at least `steps_per_epoch * epochs` batches. You may need to use the `.repeat()` function when building your dataset.\n",
      "  self._interrupted_warning()\n"
     ]
    },
    {
     "name": "stdout",
     "output_type": "stream",
     "text": [
      "\n",
      "Epoch 1: val_loss improved from inf to 1.64000, saving model to model/gru.weights.h5\n"
     ]
    },
    {
     "name": "stderr",
     "output_type": "stream",
     "text": [
      "2025-06-12 17:49:46.307108: I tensorflow/core/framework/local_rendezvous.cc:407] Local rendezvous is aborting with status: OUT_OF_RANGE: End of sequence\n",
      "\t [[{{node IteratorGetNext}}]]\n",
      "\t [[IteratorGetNext/_4]]\n"
     ]
    },
    {
     "name": "stdout",
     "output_type": "stream",
     "text": [
      "\u001b[1m2387/2387\u001b[0m \u001b[32m━━━━━━━━━━━━━━━━━━━━\u001b[0m\u001b[37m\u001b[0m \u001b[1m301s\u001b[0m 113ms/step - accuracy: 0.5638 - loss: 1.7049 - precision: 0.6367 - recall: 0.6946 - val_accuracy: 0.6413 - val_loss: 1.6400 - val_precision: 0.6134 - val_recall: 0.9361 - learning_rate: 1.0000e-06\n",
      "\n",
      "Epoch 2: LearningRateScheduler setting learning rate to 0.0009938503377876118.\n",
      "Epoch 2/20\n",
      "\u001b[1m2387/2387\u001b[0m \u001b[32m━━━━━━━━━━━━━━━━━━━━\u001b[0m\u001b[37m\u001b[0m \u001b[1m0s\u001b[0m 95ms/step - accuracy: 0.7509 - loss: 1.0209 - precision: 0.8109 - recall: 0.7599\n",
      "Epoch 2: val_loss improved from 1.64000 to 0.72644, saving model to model/gru.weights.h5\n"
     ]
    },
    {
     "name": "stderr",
     "output_type": "stream",
     "text": [
      "2025-06-12 17:54:08.471675: I tensorflow/core/framework/local_rendezvous.cc:407] Local rendezvous is aborting with status: OUT_OF_RANGE: End of sequence\n",
      "\t [[{{node IteratorGetNext}}]]\n",
      "\t [[IteratorGetNext/_4]]\n"
     ]
    },
    {
     "name": "stdout",
     "output_type": "stream",
     "text": [
      "\u001b[1m2387/2387\u001b[0m \u001b[32m━━━━━━━━━━━━━━━━━━━━\u001b[0m\u001b[37m\u001b[0m \u001b[1m262s\u001b[0m 110ms/step - accuracy: 0.7510 - loss: 1.0208 - precision: 0.8109 - recall: 0.7599 - val_accuracy: 0.7395 - val_loss: 0.7264 - val_precision: 0.6795 - val_recall: 0.9940 - learning_rate: 9.9385e-04\n",
      "\n",
      "Epoch 3: LearningRateScheduler setting learning rate to 0.0009755744133641981.\n",
      "Epoch 3/20\n",
      "\u001b[1m2387/2387\u001b[0m \u001b[32m━━━━━━━━━━━━━━━━━━━━\u001b[0m\u001b[37m\u001b[0m \u001b[1m0s\u001b[0m 95ms/step - accuracy: 0.9020 - loss: 0.3892 - precision: 0.9244 - recall: 0.9110\n",
      "Epoch 3: val_loss improved from 0.72644 to 0.35258, saving model to model/gru.weights.h5\n",
      "\u001b[1m2387/2387\u001b[0m \u001b[32m━━━━━━━━━━━━━━━━━━━━\u001b[0m\u001b[37m\u001b[0m \u001b[1m262s\u001b[0m 110ms/step - accuracy: 0.9020 - loss: 0.3892 - precision: 0.9244 - recall: 0.9110 - val_accuracy: 0.8723 - val_loss: 0.3526 - val_precision: 0.8160 - val_recall: 0.9906 - learning_rate: 9.7557e-04\n",
      "\n",
      "Epoch 4: LearningRateScheduler setting learning rate to 0.0009455872945228319.\n",
      "Epoch 4/20\n",
      "\u001b[1m2387/2387\u001b[0m \u001b[32m━━━━━━━━━━━━━━━━━━━━\u001b[0m\u001b[37m\u001b[0m \u001b[1m0s\u001b[0m 96ms/step - accuracy: 0.9239 - loss: 0.2792 - precision: 0.9352 - recall: 0.9367\n",
      "Epoch 4: val_loss improved from 0.35258 to 0.26265, saving model to model/gru.weights.h5\n"
     ]
    },
    {
     "name": "stderr",
     "output_type": "stream",
     "text": [
      "2025-06-12 18:02:54.157005: I tensorflow/core/framework/local_rendezvous.cc:407] Local rendezvous is aborting with status: OUT_OF_RANGE: End of sequence\n",
      "\t [[{{node IteratorGetNext}}]]\n",
      "\t [[IteratorGetNext/_4]]\n"
     ]
    },
    {
     "name": "stdout",
     "output_type": "stream",
     "text": [
      "\u001b[1m2387/2387\u001b[0m \u001b[32m━━━━━━━━━━━━━━━━━━━━\u001b[0m\u001b[37m\u001b[0m \u001b[1m264s\u001b[0m 110ms/step - accuracy: 0.9239 - loss: 0.2792 - precision: 0.9352 - recall: 0.9367 - val_accuracy: 0.9200 - val_loss: 0.2626 - val_precision: 0.8801 - val_recall: 0.9889 - learning_rate: 9.4559e-04\n",
      "\n",
      "Epoch 5: LearningRateScheduler setting learning rate to 0.000904638874650769.\n",
      "Epoch 5/20\n",
      "\u001b[1m2387/2387\u001b[0m \u001b[32m━━━━━━━━━━━━━━━━━━━━\u001b[0m\u001b[37m\u001b[0m \u001b[1m0s\u001b[0m 96ms/step - accuracy: 0.9552 - loss: 0.1937 - precision: 0.9621 - recall: 0.9623\n",
      "Epoch 5: val_loss did not improve from 0.26265\n",
      "\u001b[1m2387/2387\u001b[0m \u001b[32m━━━━━━━━━━━━━━━━━━━━\u001b[0m\u001b[37m\u001b[0m \u001b[1m264s\u001b[0m 110ms/step - accuracy: 0.9552 - loss: 0.1937 - precision: 0.9621 - recall: 0.9623 - val_accuracy: 0.9186 - val_loss: 0.3271 - val_precision: 0.8793 - val_recall: 0.9872 - learning_rate: 9.0464e-04\n",
      "\n",
      "Epoch 6: LearningRateScheduler setting learning rate to 0.0008537374792637018.\n",
      "Epoch 6/20\n",
      "\u001b[1m2387/2387\u001b[0m \u001b[32m━━━━━━━━━━━━━━━━━━━━\u001b[0m\u001b[37m\u001b[0m \u001b[1m0s\u001b[0m 100ms/step - accuracy: 0.9605 - loss: 0.1855 - precision: 0.9626 - recall: 0.9711\n",
      "Epoch 6: val_loss did not improve from 0.26265\n",
      "\u001b[1m2387/2387\u001b[0m \u001b[32m━━━━━━━━━━━━━━━━━━━━\u001b[0m\u001b[37m\u001b[0m \u001b[1m274s\u001b[0m 115ms/step - accuracy: 0.9605 - loss: 0.1855 - precision: 0.9626 - recall: 0.9711 - val_accuracy: 0.9392 - val_loss: 0.2831 - val_precision: 0.9103 - val_recall: 0.9864 - learning_rate: 8.5374e-04\n",
      "\n",
      "Epoch 7: LearningRateScheduler setting learning rate to 0.000794136668435752.\n",
      "Epoch 7/20\n",
      "\u001b[1m2387/2387\u001b[0m \u001b[32m━━━━━━━━━━━━━━━━━━━━\u001b[0m\u001b[37m\u001b[0m \u001b[1m0s\u001b[0m 102ms/step - accuracy: 0.9638 - loss: 0.1752 - precision: 0.9660 - recall: 0.9735\n",
      "Epoch 7: val_loss did not improve from 0.26265\n",
      "\u001b[1m2387/2387\u001b[0m \u001b[32m━━━━━━━━━━━━━━━━━━━━\u001b[0m\u001b[37m\u001b[0m \u001b[1m277s\u001b[0m 116ms/step - accuracy: 0.9638 - loss: 0.1752 - precision: 0.9660 - recall: 0.9735 - val_accuracy: 0.9111 - val_loss: 0.3343 - val_precision: 0.8665 - val_recall: 0.9906 - learning_rate: 7.9414e-04\n",
      "\n",
      "Epoch 8: LearningRateScheduler setting learning rate to 0.0007273043418152164.\n",
      "Epoch 8/20\n",
      "\u001b[1m2387/2387\u001b[0m \u001b[32m━━━━━━━━━━━━━━━━━━━━\u001b[0m\u001b[37m\u001b[0m \u001b[1m0s\u001b[0m 102ms/step - accuracy: 0.9726 - loss: 0.1394 - precision: 0.9725 - recall: 0.9821\n",
      "Epoch 8: val_loss improved from 0.26265 to 0.21819, saving model to model/gru.weights.h5\n"
     ]
    },
    {
     "name": "stderr",
     "output_type": "stream",
     "text": [
      "2025-06-12 18:21:07.011655: I tensorflow/core/framework/local_rendezvous.cc:407] Local rendezvous is aborting with status: OUT_OF_RANGE: End of sequence\n",
      "\t [[{{node IteratorGetNext}}]]\n",
      "\t [[IteratorGetNext/_4]]\n"
     ]
    },
    {
     "name": "stdout",
     "output_type": "stream",
     "text": [
      "\n",
      "Accuracy threshold 0.95 reached! Stopping training.\n",
      "\u001b[1m2387/2387\u001b[0m \u001b[32m━━━━━━━━━━━━━━━━━━━━\u001b[0m\u001b[37m\u001b[0m \u001b[1m278s\u001b[0m 117ms/step - accuracy: 0.9726 - loss: 0.1394 - precision: 0.9725 - recall: 0.9821 - val_accuracy: 0.9532 - val_loss: 0.2182 - val_precision: 0.9438 - val_recall: 0.9727 - learning_rate: 7.2730e-04\n",
      "Loading best weights...\n"
     ]
    },
    {
     "name": "stderr",
     "output_type": "stream",
     "text": [
      "WARNING:absl:You are saving your model as an HDF5 file via `model.save()` or `keras.saving.save_model(model)`. This file format is considered legacy. We recommend using instead the native Keras format, e.g. `model.save('my_model.keras')` or `keras.saving.save_model(model, 'my_model.keras')`. \n"
     ]
    },
    {
     "name": "stdout",
     "output_type": "stream",
     "text": [
      "Model saved to model/gru.h5\n",
      "INFO:tensorflow:Assets written to: /tmp/tmpx57e3tt0/assets\n"
     ]
    },
    {
     "name": "stderr",
     "output_type": "stream",
     "text": [
      "INFO:tensorflow:Assets written to: /tmp/tmpx57e3tt0/assets\n"
     ]
    },
    {
     "name": "stdout",
     "output_type": "stream",
     "text": [
      "Saved artifact at '/tmp/tmpx57e3tt0'. The following endpoints are available:\n",
      "\n",
      "* Endpoint 'serve'\n",
      "  args_0 (POSITIONAL_ONLY): TensorSpec(shape=(None, 8, 128, 128, 3), dtype=tf.float32, name='keras_tensor')\n",
      "Output Type:\n",
      "  TensorSpec(shape=(None, 1), dtype=tf.float32, name=None)\n",
      "Captures:\n",
      "  139506849825040: TensorSpec(shape=(), dtype=tf.resource, name=None)\n",
      "  139506850046864: TensorSpec(shape=(), dtype=tf.resource, name=None)\n",
      "  139506850048400: TensorSpec(shape=(), dtype=tf.resource, name=None)\n",
      "  139506849833296: TensorSpec(shape=(), dtype=tf.resource, name=None)\n",
      "  139506849840976: TensorSpec(shape=(), dtype=tf.resource, name=None)\n",
      "  139506850050128: TensorSpec(shape=(), dtype=tf.resource, name=None)\n",
      "  139506850039376: TensorSpec(shape=(), dtype=tf.resource, name=None)\n",
      "  139506850047632: TensorSpec(shape=(), dtype=tf.resource, name=None)\n",
      "  139506850043600: TensorSpec(shape=(), dtype=tf.resource, name=None)\n",
      "  139506850049936: TensorSpec(shape=(), dtype=tf.resource, name=None)\n",
      "  139506850053584: TensorSpec(shape=(), dtype=tf.resource, name=None)\n",
      "  139506850045520: TensorSpec(shape=(), dtype=tf.resource, name=None)\n",
      "  139506850041296: TensorSpec(shape=(), dtype=tf.resource, name=None)\n",
      "  139506850042256: TensorSpec(shape=(), dtype=tf.resource, name=None)\n",
      "  139506850040912: TensorSpec(shape=(), dtype=tf.resource, name=None)\n",
      "  139506850049552: TensorSpec(shape=(), dtype=tf.resource, name=None)\n",
      "  139506850048016: TensorSpec(shape=(), dtype=tf.resource, name=None)\n",
      "  139506850043408: TensorSpec(shape=(), dtype=tf.resource, name=None)\n",
      "  139506850045328: TensorSpec(shape=(), dtype=tf.resource, name=None)\n",
      "  139506850047824: TensorSpec(shape=(), dtype=tf.resource, name=None)\n",
      "  139506850038224: TensorSpec(shape=(), dtype=tf.resource, name=None)\n",
      "  139506850044368: TensorSpec(shape=(), dtype=tf.resource, name=None)\n",
      "  139506850052432: TensorSpec(shape=(), dtype=tf.resource, name=None)\n",
      "  139506850052048: TensorSpec(shape=(), dtype=tf.resource, name=None)\n",
      "  139506850051280: TensorSpec(shape=(), dtype=tf.resource, name=None)\n",
      "  139506850053776: TensorSpec(shape=(), dtype=tf.resource, name=None)\n",
      "  139506850147472: TensorSpec(shape=(), dtype=tf.resource, name=None)\n",
      "  139506850149008: TensorSpec(shape=(), dtype=tf.resource, name=None)\n",
      "  139506850042064: TensorSpec(shape=(), dtype=tf.resource, name=None)\n",
      "  139506850147280: TensorSpec(shape=(), dtype=tf.resource, name=None)\n",
      "  139506850142288: TensorSpec(shape=(), dtype=tf.resource, name=None)\n",
      "  139506850139792: TensorSpec(shape=(), dtype=tf.resource, name=None)\n",
      "  139506850141712: TensorSpec(shape=(), dtype=tf.resource, name=None)\n",
      "  139506850151696: TensorSpec(shape=(), dtype=tf.resource, name=None)\n",
      "  139506850150352: TensorSpec(shape=(), dtype=tf.resource, name=None)\n",
      "  139506850141328: TensorSpec(shape=(), dtype=tf.resource, name=None)\n",
      "  139506850144784: TensorSpec(shape=(), dtype=tf.resource, name=None)\n",
      "  139506850137488: TensorSpec(shape=(), dtype=tf.resource, name=None)\n",
      "  139506850138256: TensorSpec(shape=(), dtype=tf.resource, name=None)\n",
      "  139506850137680: TensorSpec(shape=(), dtype=tf.resource, name=None)\n",
      "  139506850145360: TensorSpec(shape=(), dtype=tf.resource, name=None)\n",
      "  139506850151504: TensorSpec(shape=(), dtype=tf.resource, name=None)\n",
      "  139506850138832: TensorSpec(shape=(), dtype=tf.resource, name=None)\n",
      "  139506850144400: TensorSpec(shape=(), dtype=tf.resource, name=None)\n",
      "  139506850148432: TensorSpec(shape=(), dtype=tf.resource, name=None)\n",
      "  139506850144976: TensorSpec(shape=(), dtype=tf.resource, name=None)\n",
      "  139506850150928: TensorSpec(shape=(), dtype=tf.resource, name=None)\n",
      "  139506850145936: TensorSpec(shape=(), dtype=tf.resource, name=None)\n",
      "  139506850144016: TensorSpec(shape=(), dtype=tf.resource, name=None)\n",
      "  139506850152272: TensorSpec(shape=(), dtype=tf.resource, name=None)\n",
      "  139506850140176: TensorSpec(shape=(), dtype=tf.resource, name=None)\n",
      "  139506850146896: TensorSpec(shape=(), dtype=tf.resource, name=None)\n",
      "  139506850148816: TensorSpec(shape=(), dtype=tf.resource, name=None)\n",
      "  139506850150544: TensorSpec(shape=(), dtype=tf.resource, name=None)\n",
      "  139506850140368: TensorSpec(shape=(), dtype=tf.resource, name=None)\n",
      "  139506850151120: TensorSpec(shape=(), dtype=tf.resource, name=None)\n",
      "  139506850142864: TensorSpec(shape=(), dtype=tf.resource, name=None)\n",
      "  139506850145744: TensorSpec(shape=(), dtype=tf.resource, name=None)\n",
      "  139506850150160: TensorSpec(shape=(), dtype=tf.resource, name=None)\n",
      "  139506850147088: TensorSpec(shape=(), dtype=tf.resource, name=None)\n",
      "  139506850146512: TensorSpec(shape=(), dtype=tf.resource, name=None)\n",
      "  139506850136336: TensorSpec(shape=(), dtype=tf.resource, name=None)\n",
      "  139506850136528: TensorSpec(shape=(), dtype=tf.resource, name=None)\n",
      "  139506850145552: TensorSpec(shape=(), dtype=tf.resource, name=None)\n",
      "  139506850152080: TensorSpec(shape=(), dtype=tf.resource, name=None)\n",
      "  139506850143824: TensorSpec(shape=(), dtype=tf.resource, name=None)\n",
      "  139506850150736: TensorSpec(shape=(), dtype=tf.resource, name=None)\n",
      "  139506850141520: TensorSpec(shape=(), dtype=tf.resource, name=None)\n",
      "  139506850149968: TensorSpec(shape=(), dtype=tf.resource, name=None)\n",
      "  139506850137872: TensorSpec(shape=(), dtype=tf.resource, name=None)\n",
      "  139506850144592: TensorSpec(shape=(), dtype=tf.resource, name=None)\n",
      "  139506850148240: TensorSpec(shape=(), dtype=tf.resource, name=None)\n",
      "  139506850142480: TensorSpec(shape=(), dtype=tf.resource, name=None)\n",
      "  139506850149392: TensorSpec(shape=(), dtype=tf.resource, name=None)\n",
      "  139506850149584: TensorSpec(shape=(), dtype=tf.resource, name=None)\n",
      "  139506850143056: TensorSpec(shape=(), dtype=tf.resource, name=None)\n",
      "  139506850151312: TensorSpec(shape=(), dtype=tf.resource, name=None)\n",
      "  139506850141136: TensorSpec(shape=(), dtype=tf.resource, name=None)\n",
      "  139506850148048: TensorSpec(shape=(), dtype=tf.resource, name=None)\n",
      "  139506850139216: TensorSpec(shape=(), dtype=tf.resource, name=None)\n",
      "  139506850148624: TensorSpec(shape=(), dtype=tf.resource, name=None)\n",
      "  139506850143632: TensorSpec(shape=(), dtype=tf.resource, name=None)\n",
      "  139506850139600: TensorSpec(shape=(), dtype=tf.resource, name=None)\n",
      "  139506850146320: TensorSpec(shape=(), dtype=tf.resource, name=None)\n",
      "  139506850137296: TensorSpec(shape=(), dtype=tf.resource, name=None)\n",
      "  139506850138448: TensorSpec(shape=(), dtype=tf.resource, name=None)\n",
      "  139506570295824: TensorSpec(shape=(), dtype=tf.resource, name=None)\n",
      "  139506570295248: TensorSpec(shape=(), dtype=tf.resource, name=None)\n",
      "  139506570289680: TensorSpec(shape=(), dtype=tf.resource, name=None)\n",
      "  139506570294864: TensorSpec(shape=(), dtype=tf.resource, name=None)\n",
      "  139506570296592: TensorSpec(shape=(), dtype=tf.resource, name=None)\n",
      "  139506570284880: TensorSpec(shape=(), dtype=tf.resource, name=None)\n",
      "  139506570290064: TensorSpec(shape=(), dtype=tf.resource, name=None)\n",
      "  139506570284304: TensorSpec(shape=(), dtype=tf.resource, name=None)\n",
      "  139506570289104: TensorSpec(shape=(), dtype=tf.resource, name=None)\n",
      "  139506570288528: TensorSpec(shape=(), dtype=tf.resource, name=None)\n",
      "  139506570293904: TensorSpec(shape=(), dtype=tf.resource, name=None)\n",
      "  139506570293136: TensorSpec(shape=(), dtype=tf.resource, name=None)\n",
      "  139506570297168: TensorSpec(shape=(), dtype=tf.resource, name=None)\n",
      "  139506570290832: TensorSpec(shape=(), dtype=tf.resource, name=None)\n",
      "  139506570287760: TensorSpec(shape=(), dtype=tf.resource, name=None)\n",
      "  139506570292176: TensorSpec(shape=(), dtype=tf.resource, name=None)\n",
      "  139506570292752: TensorSpec(shape=(), dtype=tf.resource, name=None)\n",
      "  139506570296784: TensorSpec(shape=(), dtype=tf.resource, name=None)\n",
      "  139506570282960: TensorSpec(shape=(), dtype=tf.resource, name=None)\n",
      "  139506570296400: TensorSpec(shape=(), dtype=tf.resource, name=None)\n",
      "  139506570283536: TensorSpec(shape=(), dtype=tf.resource, name=None)\n",
      "  139506570285840: TensorSpec(shape=(), dtype=tf.resource, name=None)\n",
      "  139506570286032: TensorSpec(shape=(), dtype=tf.resource, name=None)\n",
      "  139506570293520: TensorSpec(shape=(), dtype=tf.resource, name=None)\n",
      "  139506570293712: TensorSpec(shape=(), dtype=tf.resource, name=None)\n",
      "  139506570296208: TensorSpec(shape=(), dtype=tf.resource, name=None)\n",
      "  139506570287376: TensorSpec(shape=(), dtype=tf.resource, name=None)\n",
      "  139506570283920: TensorSpec(shape=(), dtype=tf.resource, name=None)\n",
      "  139506570281616: TensorSpec(shape=(), dtype=tf.resource, name=None)\n",
      "  139506570290448: TensorSpec(shape=(), dtype=tf.resource, name=None)\n",
      "  139506570292560: TensorSpec(shape=(), dtype=tf.resource, name=None)\n",
      "  139506570292944: TensorSpec(shape=(), dtype=tf.resource, name=None)\n",
      "  139506570296976: TensorSpec(shape=(), dtype=tf.resource, name=None)\n",
      "  139506570294480: TensorSpec(shape=(), dtype=tf.resource, name=None)\n",
      "  139506570291792: TensorSpec(shape=(), dtype=tf.resource, name=None)\n",
      "  139506570290256: TensorSpec(shape=(), dtype=tf.resource, name=None)\n",
      "  139506570291024: TensorSpec(shape=(), dtype=tf.resource, name=None)\n",
      "  139506570286800: TensorSpec(shape=(), dtype=tf.resource, name=None)\n",
      "  139506570285264: TensorSpec(shape=(), dtype=tf.resource, name=None)\n",
      "  139506570288336: TensorSpec(shape=(), dtype=tf.resource, name=None)\n",
      "  139506570286992: TensorSpec(shape=(), dtype=tf.resource, name=None)\n",
      "  139506570283728: TensorSpec(shape=(), dtype=tf.resource, name=None)\n",
      "  139506570291600: TensorSpec(shape=(), dtype=tf.resource, name=None)\n",
      "  139506570287568: TensorSpec(shape=(), dtype=tf.resource, name=None)\n",
      "  139506570288144: TensorSpec(shape=(), dtype=tf.resource, name=None)\n",
      "  139506570289488: TensorSpec(shape=(), dtype=tf.resource, name=None)\n",
      "  139506570281040: TensorSpec(shape=(), dtype=tf.resource, name=None)\n",
      "  139506570286416: TensorSpec(shape=(), dtype=tf.resource, name=None)\n",
      "  139506570284688: TensorSpec(shape=(), dtype=tf.resource, name=None)\n",
      "  139506570288720: TensorSpec(shape=(), dtype=tf.resource, name=None)\n",
      "  139506570289296: TensorSpec(shape=(), dtype=tf.resource, name=None)\n",
      "  139506570285072: TensorSpec(shape=(), dtype=tf.resource, name=None)\n",
      "  139506570286608: TensorSpec(shape=(), dtype=tf.resource, name=None)\n",
      "  139506570291984: TensorSpec(shape=(), dtype=tf.resource, name=None)\n",
      "  139506570292368: TensorSpec(shape=(), dtype=tf.resource, name=None)\n",
      "  139506570290640: TensorSpec(shape=(), dtype=tf.resource, name=None)\n",
      "  139506570294096: TensorSpec(shape=(), dtype=tf.resource, name=None)\n",
      "  139506570283344: TensorSpec(shape=(), dtype=tf.resource, name=None)\n",
      "  139506570284496: TensorSpec(shape=(), dtype=tf.resource, name=None)\n",
      "  139506570295632: TensorSpec(shape=(), dtype=tf.resource, name=None)\n",
      "  139506570282576: TensorSpec(shape=(), dtype=tf.resource, name=None)\n",
      "  139506570285648: TensorSpec(shape=(), dtype=tf.resource, name=None)\n",
      "  139506570287184: TensorSpec(shape=(), dtype=tf.resource, name=None)\n",
      "  139506570288912: TensorSpec(shape=(), dtype=tf.resource, name=None)\n",
      "  139506570281424: TensorSpec(shape=(), dtype=tf.resource, name=None)\n",
      "  139506570295440: TensorSpec(shape=(), dtype=tf.resource, name=None)\n",
      "  139506570286224: TensorSpec(shape=(), dtype=tf.resource, name=None)\n",
      "  139506570283152: TensorSpec(shape=(), dtype=tf.resource, name=None)\n",
      "  139506570281232: TensorSpec(shape=(), dtype=tf.resource, name=None)\n",
      "  139506570291216: TensorSpec(shape=(), dtype=tf.resource, name=None)\n",
      "  139506570294672: TensorSpec(shape=(), dtype=tf.resource, name=None)\n",
      "  139506850016208: TensorSpec(shape=(), dtype=tf.resource, name=None)\n",
      "  139506570282384: TensorSpec(shape=(), dtype=tf.resource, name=None)\n",
      "  139506570287952: TensorSpec(shape=(), dtype=tf.resource, name=None)\n",
      "  139506850018128: TensorSpec(shape=(), dtype=tf.resource, name=None)\n",
      "  139506850009872: TensorSpec(shape=(), dtype=tf.resource, name=None)\n",
      "  139506850016592: TensorSpec(shape=(), dtype=tf.resource, name=None)\n",
      "  139506850012752: TensorSpec(shape=(), dtype=tf.resource, name=None)\n",
      "  139506850005264: TensorSpec(shape=(), dtype=tf.resource, name=None)\n",
      "  139506850007376: TensorSpec(shape=(), dtype=tf.resource, name=None)\n",
      "  139506850020240: TensorSpec(shape=(), dtype=tf.resource, name=None)\n",
      "  139506850018896: TensorSpec(shape=(), dtype=tf.resource, name=None)\n",
      "  139506850016976: TensorSpec(shape=(), dtype=tf.resource, name=None)\n",
      "  139506850015248: TensorSpec(shape=(), dtype=tf.resource, name=None)\n",
      "  139506850014864: TensorSpec(shape=(), dtype=tf.resource, name=None)\n",
      "  139506850019280: TensorSpec(shape=(), dtype=tf.resource, name=None)\n",
      "  139506850007952: TensorSpec(shape=(), dtype=tf.resource, name=None)\n",
      "  139506850018704: TensorSpec(shape=(), dtype=tf.resource, name=None)\n",
      "  139506850011024: TensorSpec(shape=(), dtype=tf.resource, name=None)\n",
      "  139506850014096: TensorSpec(shape=(), dtype=tf.resource, name=None)\n",
      "  139506850013520: TensorSpec(shape=(), dtype=tf.resource, name=None)\n",
      "  139506850008720: TensorSpec(shape=(), dtype=tf.resource, name=None)\n",
      "  139506850010448: TensorSpec(shape=(), dtype=tf.resource, name=None)\n",
      "  139506850017552: TensorSpec(shape=(), dtype=tf.resource, name=None)\n",
      "  139506850013712: TensorSpec(shape=(), dtype=tf.resource, name=None)\n",
      "  139506850013136: TensorSpec(shape=(), dtype=tf.resource, name=None)\n",
      "  139506850017360: TensorSpec(shape=(), dtype=tf.resource, name=None)\n",
      "  139506850019856: TensorSpec(shape=(), dtype=tf.resource, name=None)\n",
      "  139506850008528: TensorSpec(shape=(), dtype=tf.resource, name=None)\n",
      "  139506850006032: TensorSpec(shape=(), dtype=tf.resource, name=None)\n",
      "  139506850006608: TensorSpec(shape=(), dtype=tf.resource, name=None)\n",
      "  139506850007760: TensorSpec(shape=(), dtype=tf.resource, name=None)\n",
      "  139506850011600: TensorSpec(shape=(), dtype=tf.resource, name=None)\n",
      "  139506850019088: TensorSpec(shape=(), dtype=tf.resource, name=None)\n",
      "  139506850014480: TensorSpec(shape=(), dtype=tf.resource, name=None)\n",
      "  139506850115088: TensorSpec(shape=(), dtype=tf.resource, name=None)\n",
      "  139506850110096: TensorSpec(shape=(), dtype=tf.resource, name=None)\n",
      "  139506850016784: TensorSpec(shape=(), dtype=tf.resource, name=None)\n",
      "  139506850010640: TensorSpec(shape=(), dtype=tf.resource, name=None)\n",
      "  139506850105488: TensorSpec(shape=(), dtype=tf.resource, name=None)\n",
      "  139506850118928: TensorSpec(shape=(), dtype=tf.resource, name=None)\n",
      "  139506850103568: TensorSpec(shape=(), dtype=tf.resource, name=None)\n",
      "  139506850118160: TensorSpec(shape=(), dtype=tf.resource, name=None)\n",
      "  139506850107024: TensorSpec(shape=(), dtype=tf.resource, name=None)\n",
      "  139506850108752: TensorSpec(shape=(), dtype=tf.resource, name=None)\n",
      "  139506850104912: TensorSpec(shape=(), dtype=tf.resource, name=None)\n",
      "  139506850110288: TensorSpec(shape=(), dtype=tf.resource, name=None)\n",
      "  139506850110480: TensorSpec(shape=(), dtype=tf.resource, name=None)\n",
      "  139506850115664: TensorSpec(shape=(), dtype=tf.resource, name=None)\n",
      "  139506850113744: TensorSpec(shape=(), dtype=tf.resource, name=None)\n",
      "  139506850114512: TensorSpec(shape=(), dtype=tf.resource, name=None)\n",
      "  139506850104336: TensorSpec(shape=(), dtype=tf.resource, name=None)\n",
      "  139506850103952: TensorSpec(shape=(), dtype=tf.resource, name=None)\n",
      "  139506850106448: TensorSpec(shape=(), dtype=tf.resource, name=None)\n",
      "  139506850114128: TensorSpec(shape=(), dtype=tf.resource, name=None)\n",
      "  139506850108944: TensorSpec(shape=(), dtype=tf.resource, name=None)\n",
      "  139506850119504: TensorSpec(shape=(), dtype=tf.resource, name=None)\n",
      "  139506850111056: TensorSpec(shape=(), dtype=tf.resource, name=None)\n",
      "  139506850109328: TensorSpec(shape=(), dtype=tf.resource, name=None)\n",
      "  139506850106832: TensorSpec(shape=(), dtype=tf.resource, name=None)\n",
      "  139506850107792: TensorSpec(shape=(), dtype=tf.resource, name=None)\n",
      "  139506850112976: TensorSpec(shape=(), dtype=tf.resource, name=None)\n",
      "  139506850112400: TensorSpec(shape=(), dtype=tf.resource, name=None)\n",
      "  139506850113936: TensorSpec(shape=(), dtype=tf.resource, name=None)\n",
      "  139506850116624: TensorSpec(shape=(), dtype=tf.resource, name=None)\n",
      "  139506850063632: TensorSpec(shape=(), dtype=tf.resource, name=None)\n",
      "  139506850058640: TensorSpec(shape=(), dtype=tf.resource, name=None)\n",
      "  139506850116240: TensorSpec(shape=(), dtype=tf.resource, name=None)\n",
      "  139506850068240: TensorSpec(shape=(), dtype=tf.resource, name=None)\n",
      "  139506850065552: TensorSpec(shape=(), dtype=tf.resource, name=None)\n",
      "  139506850060176: TensorSpec(shape=(), dtype=tf.resource, name=None)\n",
      "  139506850057296: TensorSpec(shape=(), dtype=tf.resource, name=None)\n",
      "  139506850059984: TensorSpec(shape=(), dtype=tf.resource, name=None)\n",
      "  139506850069776: TensorSpec(shape=(), dtype=tf.resource, name=None)\n",
      "  139506850058448: TensorSpec(shape=(), dtype=tf.resource, name=None)\n",
      "  139506850067280: TensorSpec(shape=(), dtype=tf.resource, name=None)\n",
      "  139506850062096: TensorSpec(shape=(), dtype=tf.resource, name=None)\n",
      "  139506850068048: TensorSpec(shape=(), dtype=tf.resource, name=None)\n",
      "  139506850058064: TensorSpec(shape=(), dtype=tf.resource, name=None)\n",
      "  139506850064208: TensorSpec(shape=(), dtype=tf.resource, name=None)\n",
      "  139506850064784: TensorSpec(shape=(), dtype=tf.resource, name=None)\n",
      "  139506850063056: TensorSpec(shape=(), dtype=tf.resource, name=None)\n",
      "  139506850057872: TensorSpec(shape=(), dtype=tf.resource, name=None)\n",
      "  139506850061712: TensorSpec(shape=(), dtype=tf.resource, name=None)\n",
      "  139506850065168: TensorSpec(shape=(), dtype=tf.resource, name=None)\n",
      "  139506850069200: TensorSpec(shape=(), dtype=tf.resource, name=None)\n",
      "  139506850057104: TensorSpec(shape=(), dtype=tf.resource, name=None)\n",
      "  139506850061136: TensorSpec(shape=(), dtype=tf.resource, name=None)\n",
      "  139506850056528: TensorSpec(shape=(), dtype=tf.resource, name=None)\n",
      "  139506850067472: TensorSpec(shape=(), dtype=tf.resource, name=None)\n",
      "  139506850062480: TensorSpec(shape=(), dtype=tf.resource, name=None)\n",
      "  139506850056912: TensorSpec(shape=(), dtype=tf.resource, name=None)\n",
      "  139506850068816: TensorSpec(shape=(), dtype=tf.resource, name=None)\n",
      "  139506850058832: TensorSpec(shape=(), dtype=tf.resource, name=None)\n",
      "  139506850068624: TensorSpec(shape=(), dtype=tf.resource, name=None)\n",
      "  139506850065360: TensorSpec(shape=(), dtype=tf.resource, name=None)\n",
      "  139506850056336: TensorSpec(shape=(), dtype=tf.resource, name=None)\n",
      "  139506850054608: TensorSpec(shape=(), dtype=tf.resource, name=None)\n",
      "  139506850055376: TensorSpec(shape=(), dtype=tf.resource, name=None)\n",
      "  139506850063440: TensorSpec(shape=(), dtype=tf.resource, name=None)\n",
      "  139506850054224: TensorSpec(shape=(), dtype=tf.resource, name=None)\n",
      "  139506850054800: TensorSpec(shape=(), dtype=tf.resource, name=None)\n",
      "  139506850067856: TensorSpec(shape=(), dtype=tf.resource, name=None)\n",
      "  139506850064016: TensorSpec(shape=(), dtype=tf.resource, name=None)\n",
      "  139506850059408: TensorSpec(shape=(), dtype=tf.resource, name=None)\n",
      "  139506850059024: TensorSpec(shape=(), dtype=tf.resource, name=None)\n",
      "  139506850063824: TensorSpec(shape=(), dtype=tf.resource, name=None)\n",
      "  139506850055952: TensorSpec(shape=(), dtype=tf.resource, name=None)\n",
      "  139506850060752: TensorSpec(shape=(), dtype=tf.resource, name=None)\n",
      "  139506850057488: TensorSpec(shape=(), dtype=tf.resource, name=None)\n",
      "  139506850059792: TensorSpec(shape=(), dtype=tf.resource, name=None)\n",
      "  139506850064976: TensorSpec(shape=(), dtype=tf.resource, name=None)\n",
      "  139506850062672: TensorSpec(shape=(), dtype=tf.resource, name=None)\n",
      "  139506850061328: TensorSpec(shape=(), dtype=tf.resource, name=None)\n",
      "  139506850066896: TensorSpec(shape=(), dtype=tf.resource, name=None)\n",
      "  139506850062864: TensorSpec(shape=(), dtype=tf.resource, name=None)\n",
      "  139506850069008: TensorSpec(shape=(), dtype=tf.resource, name=None)\n",
      "  139506850054992: TensorSpec(shape=(), dtype=tf.resource, name=None)\n"
     ]
    },
    {
     "name": "stderr",
     "output_type": "stream",
     "text": [
      "WARNING: All log messages before absl::InitializeLog() is called are written to STDERR\n",
      "W0000 00:00:1749723690.529785  111440 tf_tfl_flatbuffer_helpers.cc:365] Ignored output_format.\n",
      "W0000 00:00:1749723690.530014  111440 tf_tfl_flatbuffer_helpers.cc:368] Ignored drop_control_dependency.\n",
      "2025-06-12 18:21:30.533289: I tensorflow/cc/saved_model/reader.cc:83] Reading SavedModel from: /tmp/tmpx57e3tt0\n",
      "2025-06-12 18:21:30.560717: I tensorflow/cc/saved_model/reader.cc:52] Reading meta graph with tags { serve }\n",
      "2025-06-12 18:21:30.560746: I tensorflow/cc/saved_model/reader.cc:147] Reading SavedModel debug info (if present) from: /tmp/tmpx57e3tt0\n",
      "I0000 00:00:1749723690.821391  111440 mlir_graph_optimization_pass.cc:425] MLIR V1 optimization pass is not enabled\n",
      "2025-06-12 18:21:30.852504: I tensorflow/cc/saved_model/loader.cc:236] Restoring SavedModel bundle.\n",
      "2025-06-12 18:21:31.825084: I tensorflow/cc/saved_model/loader.cc:220] Running initialization op on SavedModel bundle at path: /tmp/tmpx57e3tt0\n",
      "2025-06-12 18:21:32.228528: I tensorflow/cc/saved_model/loader.cc:471] SavedModel load for tags { serve }; Status: success: OK. Took 1695242 microseconds.\n",
      "2025-06-12 18:21:32.791600: I tensorflow/compiler/mlir/tensorflow/utils/dump_mlir_util.cc:269] disabling MLIR crash reproducer, set env var `MLIR_CRASH_REPRODUCER_DIRECTORY` to enable.\n",
      "2025-06-12 18:21:34.686660: W tensorflow/compiler/mlir/lite/flatbuffer_export.cc:3993] TFLite interpreter needs to link Flex delegate in order to run the model since it contains the following Select TFop(s):\n",
      "Flex ops: FlexTensorListReserve, FlexTensorListSetItem, FlexTensorListStack\n",
      "Details:\n",
      "\ttf.TensorListReserve(tensor<2xi32>, tensor<i32>) -> (tensor<!tf_type.variant<tensor<?x128xf32>>>) : {device = \"\"}\n",
      "\ttf.TensorListReserve(tensor<2xi32>, tensor<i32>) -> (tensor<!tf_type.variant<tensor<?x256xf32>>>) : {device = \"\"}\n",
      "\ttf.TensorListSetItem(tensor<!tf_type.variant<tensor<?x128xf32>>>, tensor<i32>, tensor<?x128xf32>) -> (tensor<!tf_type.variant<tensor<?x128xf32>>>) : {device = \"\", resize_if_index_out_of_bounds = false}\n",
      "\ttf.TensorListSetItem(tensor<!tf_type.variant<tensor<?x256xf32>>>, tensor<i32>, tensor<?x256xf32>) -> (tensor<!tf_type.variant<tensor<?x256xf32>>>) : {device = \"\", resize_if_index_out_of_bounds = false}\n",
      "\ttf.TensorListStack(tensor<!tf_type.variant<tensor<?x128xf32>>>, tensor<2xi32>) -> (tensor<1x?x128xf32>) : {device = \"\", num_elements = 1 : i64}\n",
      "\ttf.TensorListStack(tensor<!tf_type.variant<tensor<?x256xf32>>>, tensor<2xi32>) -> (tensor<8x?x256xf32>) : {device = \"\", num_elements = 8 : i64}\n",
      "See instructions: https://www.tensorflow.org/lite/guide/ops_select\n"
     ]
    }
   ],
   "source": [
    "from keras.metrics import Precision, Recall\n",
    "\n",
    "# Define your metrics properly\n",
    "metrics = [\n",
    "    'accuracy',\n",
    "    Precision(name='precision'),  # Properly initialized precision metric\n",
    "    Recall(name='recall')        # Properly initialized recall metric\n",
    "]\n",
    "\n",
    "# Recompile the model with correct metrics\n",
    "model.compile(\n",
    "    optimizer=tf.keras.optimizers.Adam(\n",
    "        learning_rate=0.0001,\n",
    "        beta_1=0.9,\n",
    "        beta_2=0.999,\n",
    "        epsilon=1e-7\n",
    "    ),\n",
    "    loss='binary_crossentropy',\n",
    "    metrics=metrics\n",
    ")\n",
    "\n",
    "# Train the model\n",
    "\n",
    "# Print a message indicating the start of training\n",
    "print(\"Starting training...\")\n",
    "\n",
    "# Print the number of training and validation sequences\n",
    "# print(f\"Training with {len(X_train)} sequences, validating with {len(X_test)} sequences\")\n",
    "\n",
    "# Train the model using the training data (X_train, y_train) and validate on test data (X_test, y_test)\n",
    "history = model.fit(\n",
    "    train_ds,              # Training data (features and labels)\n",
    "    epochs=EPOCHS,                   # Number of training iterations\n",
    "    validation_data=test_ds,# Data to evaluate model performance after each epoch\n",
    "    callbacks=callbacks,             # Optional callbacks (e.g., checkpointing, early stopping)\n",
    "    verbose=1                        # Show progress bar and metrics per epoch\n",
    ")\n",
    "\n",
    "# Load the best model weights (e.g., from a checkpoint saved during training)\n",
    "print(\"Loading best weights...\")\n",
    "model.load_weights(checkpoint_path)   # Restores the best-performing weights\n",
    "\n",
    "# Save the entire trained model (architecture + weights + optimizer state) to a file\n",
    "model.save(model_save_path)          \n",
    "print(f\"Model saved to {model_save_path}\")  # Confirms where the model was saved\n",
    "\n",
    "# Convert the Keras model to TensorFlow Lite format (for deployment on mobile/edge devices)\n",
    "converter = tf.lite.TFLiteConverter.from_keras_model(model)  # Initialize the converter\n",
    "\n",
    "# Enable these options to handle unsupported ops\n",
    "converter.target_spec.supported_ops = [\n",
    "    tf.lite.OpsSet.TFLITE_BUILTINS,  # Enable TensorFlow Lite ops\n",
    "    tf.lite.OpsSet.SELECT_TF_OPS     # Enable TensorFlow ops fallback\n",
    "]\n",
    "converter._experimental_lower_tensor_list_ops = False  # Disable tensor list lowering\n",
    "tflite_model = converter.convert()   # Perform the conversion\n",
    "\n",
    "# Save the resulting TFLite model to a binary file\n",
    "with open('model/gru.tflite', 'wb') as f:  # Open file in write-binary mode\n",
    "    f.write(tflite_model)            # Write the TFLite model bytes to the file"
   ]
  },
  {
   "cell_type": "markdown",
   "metadata": {},
   "source": [
    "## Evaluate the Model"
   ]
  },
  {
   "cell_type": "code",
   "execution_count": 23,
   "metadata": {},
   "outputs": [],
   "source": [
    "# Evaluation and visualization functions\n",
    "def plot_training_history(history, save_dir='images'):\n",
    "    \"\"\"Plot training history with enhanced visualization\"\"\"\n",
    "    # Create a 2x2 grid of subplots with a larger figure size (15x12 inches)\n",
    "    fig, axes = plt.subplots(2, 2, figsize=(15, 12))\n",
    "    \n",
    "    # --- Loss Plot (Top-left subplot) ---\n",
    "    axes[0, 0].plot(history.history['loss'], label='Training Loss', linewidth=2)  # Plot training loss\n",
    "    axes[0, 0].plot(history.history['val_loss'], label='Validation Loss', linewidth=2)  # Plot validation loss\n",
    "    axes[0, 0].set_title('Model Loss', fontsize=14, fontweight='bold')  # Set subplot title\n",
    "    axes[0, 0].set_xlabel('Epoch')  # Label x-axis\n",
    "    axes[0, 0].set_ylabel('Loss')  # Label y-axis\n",
    "    axes[0, 0].legend()  # Show legend\n",
    "    axes[0, 0].grid(True, alpha=0.3)  # Add semi-transparent grid\n",
    "    \n",
    "    # --- Accuracy Plot (Top-right subplot) ---\n",
    "    axes[0, 1].plot(history.history['accuracy'], label='Training Accuracy', linewidth=2)  # Plot training accuracy\n",
    "    axes[0, 1].plot(history.history['val_accuracy'], label='Validation Accuracy', linewidth=2)  # Plot validation accuracy\n",
    "    axes[0, 1].set_title('Model Accuracy', fontsize=14, fontweight='bold')  # Set subplot title\n",
    "    axes[0, 1].set_xlabel('Epoch')  # Label x-axis\n",
    "    axes[0, 1].set_ylabel('Accuracy')  # Label y-axis\n",
    "    axes[0, 1].legend()  # Show legend\n",
    "    axes[0, 1].grid(True, alpha=0.3)  # Add semi-transparent grid\n",
    "    \n",
    "    # --- Precision Plot (Bottom-left subplot, conditional) ---\n",
    "    if 'precision' in history.history:  # Check if precision was logged during training\n",
    "        axes[1, 0].plot(history.history['precision'], label='Training Precision', linewidth=2)  # Plot training precision\n",
    "        axes[1, 0].plot(history.history['val_precision'], label='Validation Precision', linewidth=2)  # Plot validation precision\n",
    "        axes[1, 0].set_title('Model Precision', fontsize=14, fontweight='bold')  # Set subplot title\n",
    "        axes[1, 0].set_xlabel('Epoch')  # Label x-axis\n",
    "        axes[1, 0].set_ylabel('Precision')  # Label y-axis\n",
    "        axes[1, 0].legend()  # Show legend\n",
    "        axes[1, 0].grid(True, alpha=0.3)  # Add semi-transparent grid\n",
    "    \n",
    "    # --- Recall Plot (Bottom-right subplot, conditional) ---\n",
    "    if 'recall' in history.history:  # Check if recall was logged during training\n",
    "        axes[1, 1].plot(history.history['recall'], label='Training Recall', linewidth=2)  # Plot training recall\n",
    "        axes[1, 1].plot(history.history['val_recall'], label='Validation Recall', linewidth=2)  # Plot validation recall\n",
    "        axes[1, 1].set_title('Model Recall', fontsize=14, fontweight='bold')  # Set subplot title\n",
    "        axes[1, 1].set_xlabel('Epoch')  # Label x-axis\n",
    "        axes[1, 1].set_ylabel('Recall')  # Label y-axis\n",
    "        axes[1, 1].legend()  # Show legend\n",
    "        axes[1, 1].grid(True, alpha=0.3)  # Add semi-transparent grid\n",
    "    \n",
    "    plt.tight_layout()  # Adjust spacing between subplots to prevent overlap\n",
    "    plt.savefig(os.path.join(save_dir, 'training_history.png'), dpi=300, bbox_inches='tight')  # Save figure as high-res PNG\n",
    "    plt.show()  # Display the figure"
   ]
  },
  {
   "cell_type": "markdown",
   "metadata": {},
   "source": [
    "## Generate Detailed Metrics"
   ]
  },
  {
   "cell_type": "code",
   "execution_count": 25,
   "metadata": {},
   "outputs": [
    {
     "name": "stdout",
     "output_type": "stream",
     "text": [
      "Evaluating model...\n",
      "\u001b[1m535/535\u001b[0m \u001b[32m━━━━━━━━━━━━━━━━━━━━\u001b[0m\u001b[37m\u001b[0m \u001b[1m33s\u001b[0m 61ms/step - accuracy: 0.9479 - loss: 0.2331 - precision: 0.9308 - recall: 0.9636\n",
      "\n",
      "Test Results:\n",
      "Loss: 0.2182\n",
      "Accuracy: 0.9532\n",
      "Precision: 0.9438\n",
      "Recall: 0.9727\n",
      "F1 Score: 0.9580\n",
      "Generating predictions...\n"
     ]
    },
    {
     "name": "stderr",
     "output_type": "stream",
     "text": [
      "/home/ubuntu-rainn/Projects/CCDEPLRL_PROJECT/tf_env/lib/python3.12/site-packages/keras/src/trainers/epoch_iterator.py:160: UserWarning: Your input ran out of data; interrupting training. Make sure that your dataset or generator can generate at least `steps_per_epoch * epochs` batches. You may need to use the `.repeat()` function when building your dataset.\n",
      "  self._interrupted_warning()\n"
     ]
    },
    {
     "data": {
      "image/png": "[encoded data removed]",
      "text/plain": [
       "<Figure size 1000x800 with 2 Axes>"
      ]
     },
     "metadata": {},
     "output_type": "display_data"
    },
    {
     "name": "stdout",
     "output_type": "stream",
     "text": [
      "\n",
      "Classification Report:\n",
      "              precision    recall  f1-score   support\n",
      "\n",
      " NonViolence       0.97      0.93      0.95       965\n",
      "    Violence       0.94      0.97      0.96      1173\n",
      "\n",
      "    accuracy                           0.95      2138\n",
      "   macro avg       0.95      0.95      0.95      2138\n",
      "weighted avg       0.95      0.95      0.95      2138\n",
      "\n"
     ]
    },
    {
     "data": {
      "image/png": "[encoded data removed]",
      "text/plain": [
       "<Figure size 1500x1200 with 4 Axes>"
      ]
     },
     "metadata": {},
     "output_type": "display_data"
    }
   ],
   "source": [
    "from sklearn import metrics\n",
    "\n",
    "# Model evaluation\n",
    "\n",
    "# Print message indicating evaluation is starting\n",
    "print(\"Evaluating model...\")\n",
    "\n",
    "# Evaluate model on test data and get metrics\n",
    "# Returns: loss, accuracy, precision, recall (order depends on model compilation)\n",
    "test_loss, test_accuracy, test_precision, test_recall = model.evaluate(test_ds, verbose=1)\n",
    "\n",
    "# Print formatted test results with 4 decimal places\n",
    "print(f\"\\nTest Results:\")\n",
    "print(f\"Loss: {test_loss:.4f}\")          # Model's total loss\n",
    "print(f\"Accuracy: {test_accuracy:.4f}\")  # Overall correctness\n",
    "print(f\"Precision: {test_precision:.4f}\")  # True positives / (True positives + False positives)\n",
    "print(f\"Recall: {test_recall:.4f}\")      # True positives / (True positives + False negatives)\n",
    "\n",
    "# Calculate F1 Score (harmonic mean of precision and recall)\n",
    "f1_score = 2 * (test_precision * test_recall) / (test_precision + test_recall)\n",
    "print(f\"F1 Score: {f1_score:.4f}\")  # Balanced metric for imbalanced datasets\n",
    "\n",
    "# Generate predictions for confusion matrix and classification report\n",
    "print(\"Generating predictions...\")\n",
    "# Get predicted probabilities for test data using specified batch size\n",
    "y_true = []\n",
    "y_pred = []\n",
    "\n",
    "for x_batch, y_batch in test_ds:\n",
    "    y_pred_prob = model.predict(x_batch, verbose=0)\n",
    "    y_pred_bin = (y_pred_prob > 0.5).astype(int)\n",
    "\n",
    "    y_true.extend(y_batch.numpy().flatten())\n",
    "    y_pred.extend(y_pred_bin.flatten())\n",
    "\n",
    "y_true = np.array(y_true)\n",
    "y_pred = np.array(y_pred)\n",
    "\n",
    "# Create and visualize confusion matrix\n",
    "cm = metrics.confusion_matrix(y_true, y_pred)  # Compute confusion matrix\n",
    "plt.figure(figsize=(10, 8))  # Set figure size\n",
    "sns.heatmap(\n",
    "    cm, \n",
    "    annot=True,              # Show numbers in cells\n",
    "    fmt='d',                 # Integer formatting\n",
    "    cmap='Blues',            # Color scheme\n",
    "    xticklabels=['NonViolence', 'Violence'],  # X-axis labels\n",
    "    yticklabels=['NonViolence', 'Violence']   # Y-axis labels\n",
    ")\n",
    "plt.title('Confusion Matrix - MobileNetV2 + GRU Model', fontsize=16, fontweight='bold')\n",
    "plt.xlabel('Predicted Label', fontsize=12)\n",
    "plt.ylabel('True Label', fontsize=12)\n",
    "plt.savefig('images/confusion_matrix_gru.png', dpi=300, bbox_inches='tight')  # Save high-quality image\n",
    "plt.show()  # Display plot\n",
    "\n",
    "# Print detailed classification report\n",
    "print(\"\\nClassification Report:\")\n",
    "print(metrics.classification_report(\n",
    "    y_true, \n",
    "    y_pred, \n",
    "    target_names=['NonViolence', 'Violence']  # Custom class labels\n",
    "))\n",
    "\n",
    "# Plot training history (loss, accuracy, etc. over epochs)\n",
    "plot_training_history(history)  # Calls previously defined visualization function"
   ]
  },
  {
   "cell_type": "markdown",
   "metadata": {},
   "source": [
    "## Test Prediction on a Sample Video"
   ]
  },
  {
   "cell_type": "code",
   "execution_count": 26,
   "metadata": {},
   "outputs": [
    {
     "name": "stdout",
     "output_type": "stream",
     "text": [
      "\n",
      "Testing model loading...\n"
     ]
    },
    {
     "name": "stderr",
     "output_type": "stream",
     "text": [
      "WARNING:absl:Compiled the loaded model, but the compiled metrics have yet to be built. `model.compile_metrics` will be empty until you train or evaluate the model.\n"
     ]
    },
    {
     "name": "stdout",
     "output_type": "stream",
     "text": [
      "Model loaded successfully!\n",
      "\u001b[1m1/1\u001b[0m \u001b[32m━━━━━━━━━━━━━━━━━━━━\u001b[0m\u001b[37m\u001b[0m \u001b[1m8s\u001b[0m 8s/step\n",
      "Test prediction: 0.0404 (threshold: 0.5)\n",
      "Predicted class: NonViolence\n",
      "Actual class: NonViolence\n"
     ]
    }
   ],
   "source": [
    "# Test model loading functionality to verify the saved model can be properly loaded\n",
    "\n",
    "# Print message indicating model loading test is starting\n",
    "print(\"\\nTesting model loading...\")\n",
    "\n",
    "# Attempt to load the saved model with error handling\n",
    "try:\n",
    "    # Load the complete model (architecture + weights + optimizer state) from saved path\n",
    "    loaded_model = keras.models.load_model(model_save_path)\n",
    "    print(\"Model loaded successfully!\")  # Success confirmation\n",
    "    \n",
    "    # Perform a quick test prediction if test data exists\n",
    "    for x_sample, y_sample in test_ds.take(1):\n",
    "        # Take the first sample from test data & Get model prediction (probability) for the test sample\n",
    "        prediction = loaded_model.predict(x_sample[:1])[0][0]\n",
    "        \n",
    "        # Get actual label for comparison\n",
    "        actual = y_sample.numpy()[0]\n",
    "        \n",
    "        # Print the raw prediction value (formatted to 4 decimal places)\n",
    "        print(f\"Test prediction: {prediction:.4f} (threshold: 0.5)\")\n",
    "        \n",
    "        # Print the predicted class based on threshold (0.5)\n",
    "        print(f\"Predicted class: {'Violence' if prediction > 0.5 else 'NonViolence'}\")\n",
    "        \n",
    "        # Print the actual class label for comparison\n",
    "        print(f\"Actual class: {'Violence' if actual == 1 else 'NonViolence'}\")\n",
    "        break\n",
    "\n",
    "# Handle potential loading errors gracefully\n",
    "except Exception as e:  # Catch any exception during loading/prediction\n",
    "    print(f\"Error loading model: {e}\")  # Print error message for debugging"
   ]
  },
  {
   "cell_type": "code",
   "execution_count": 27,
   "metadata": {},
   "outputs": [
    {
     "name": "stdout",
     "output_type": "stream",
     "text": [
      "\n",
      "Training completed successfully!\n",
      "Model saved as: model/gru.h5\n",
      "Best weights saved as: model/gru.weights.h5\n",
      "Check the 'images' directory for visualization plots.\n",
      "Check the 'logs' directory for TensorBoard logs.\n",
      "\n",
      "==================================================\n",
      "MODEL ARCHITECTURE SUMMARY\n",
      "==================================================\n",
      "Input Shape: (8, 128, 128, 3)\n",
      "Feature Extractor: MobileNetV2 (ImageNet pretrained)\n",
      "Temporal Modeling: 2-layer GRU (256 -> 128 units)\n",
      "Regularization: Dropout, L2 regularization, Batch normalization\n",
      "Total Parameters: 3,661,761\n",
      "==================================================\n"
     ]
    }
   ],
   "source": [
    "# Print completion message and saved file locations\n",
    "print(\"\\nTraining completed successfully!\")  # Main success message\n",
    "print(f\"Model saved as: {model_save_path}\")  # Full model save path\n",
    "print(f\"Best weights saved as: {checkpoint_path}\")  # Best weights checkpoint path\n",
    "print(\"Check the 'images' directory for visualization plots.\")  # Location of training plots\n",
    "print(\"Check the 'logs' directory for TensorBoard logs.\")  # Location of training logs\n",
    "\n",
    "# Print formatted model architecture summary\n",
    "print(\"\\n\" + \"=\"*50)  # Header separator\n",
    "print(\"MODEL ARCHITECTURE SUMMARY\")  # Summary title\n",
    "print(\"=\"*50)  # Header separator\n",
    "print(f\"Input Shape: ({SEQUENCE_LENGTH}, {IMG_SIZE}, {IMG_SIZE}, {ColorChannels})\")  # Input dimensions\n",
    "print(f\"Feature Extractor: MobileNetV2 (ImageNet pretrained)\")  # Base model info\n",
    "print(f\"Temporal Modeling: 2-layer GRU (256 -> 128 units)\")  # Sequence processing layers\n",
    "print(f\"Regularization: Dropout, L2 regularization, Batch normalization\")  # Techniques used\n",
    "print(f\"Total Parameters: {model.count_params():,}\")  # Formatted parameter count\n",
    "print(\"=\"*50)  # Footer separator"
   ]
  }
 ],
 "metadata": {
  "kernelspec": {
   "display_name": "tf_env",
   "language": "python",
   "name": "python3"
  },
  "language_info": {
   "codemirror_mode": {
    "name": "ipython",
    "version": 3
   },
   "file_extension": ".py",
   "mimetype": "text/x-python",
   "name": "python",
   "nbconvert_exporter": "python",
   "pygments_lexer": "ipython3",
   "version": "3.12.2"
  }
 },
 "nbformat": 4,
 "nbformat_minor": 4
}
