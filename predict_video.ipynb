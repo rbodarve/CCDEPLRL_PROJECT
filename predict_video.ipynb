{
 "cells": [
  {
   "cell_type": "markdown",
   "metadata": {},
   "source": [
    "# Violence Detection in Videos\n",
    "\n",
    "This notebook uses the trained MobileNetV2 model to detect violence in videos. It processes videos frame by frame and outputs a video with labeled predictions."
   ]
  },
  {
   "cell_type": "markdown",
   "metadata": {},
   "source": [
    "\n",
    "Run extract_frames_from_video.ipynb then run mobilenetv2-model.ipynb then run predict_video.ipynb."
   ]
  },
  {
   "cell_type": "markdown",
   "metadata": {},
   "source": [
    "## Import Required Libraries"
   ]
  },
  {
   "cell_type": "code",
   "execution_count": 1,
   "metadata": {},
   "outputs": [
    {
     "name": "stdout",
     "output_type": "stream",
     "text": [
      "OpenCV version: 4.6.0\n"
     ]
    }
   ],
   "source": [
    "import cv2\n",
    "import numpy as np\n",
    "import matplotlib.pyplot as plt\n",
    "import os\n",
    "import time\n",
    "from keras.models import load_model\n",
    "from collections import deque\n",
    "from tqdm import tqdm\n",
    "\n",
    "# Check OpenCV version\n",
    "print(f\"OpenCV version: {cv2.__version__}\")"
   ]
  },
  {
   "cell_type": "code",
   "execution_count": null,
   "metadata": {},
   "outputs": [],
   "source": [
    "# Model hyperparameters (matching mobilenetv2_gru_model.py)\n",
    "IMG_SIZE = 224\n",
    "SEQUENCE_LENGTH = 16"
   ]
  },
  {
   "cell_type": "markdown",
   "metadata": {},
   "source": [
    "## Setup Directory Structure"
   ]
  },
  {
   "cell_type": "code",
   "execution_count": 2,
   "metadata": {},
   "outputs": [
    {
     "name": "stdout",
     "output_type": "stream",
     "text": [
      "Directory exists: ./input\n",
      "Directory exists: ./output\n"
     ]
    }
   ],
   "source": [
    "# Create necessary directories\n",
    "def ensure_dir(directory):\n",
    "    \"\"\"Create directory if it doesn't exist\"\"\"\n",
    "    if not os.path.exists(directory):\n",
    "        os.makedirs(directory)\n",
    "        print(f\"Created directory: {directory}\")\n",
    "    else:\n",
    "        print(f\"Directory exists: {directory}\")\n",
    "\n",
    "# Create input and output directories\n",
    "ensure_dir('./input')\n",
    "ensure_dir('./output')"
   ]
  },
  {
   "cell_type": "markdown",
   "metadata": {},
   "source": [
    "## Load the Trained Model"
   ]
  },
  {
   "cell_type": "code",
   "execution_count": 3,
   "metadata": {},
   "outputs": [
    {
     "name": "stdout",
     "output_type": "stream",
     "text": [
      "Loading model from ./model/model.h5...\n",
      "Model loaded successfully!\n"
     ]
    }
   ],
   "source": [
    "def load_violence_detection_model(model_path='./model/model.h5'):\n",
    "    \"\"\"Load the trained violence detection model\"\"\"\n",
    "    if not os.path.exists(model_path):\n",
    "        print(f\"Error: Model file not found at {model_path}\")\n",
    "        print(\"Please run mobilenetv2-model.ipynb first to train the model.\")\n",
    "        return None\n",
    "    \n",
    "    print(f\"Loading model from {model_path}...\")\n",
    "    model = load_model(model_path)\n",
    "    print(\"Model loaded successfully!\")\n",
    "    return model\n",
    "\n",
    "# Load the model\n",
    "model = load_violence_detection_model()"
   ]
  },
  {
   "cell_type": "markdown",
   "metadata": {},
   "source": [
    "## Video Processing Function"
   ]
  },
  {
   "cell_type": "code",
   "execution_count": 4,
   "metadata": {},
   "outputs": [],
   "source": [
    "def process_video(video_path, output_path=None, display=True):\n",
    "    \"\"\"Process a video for violence detection\n",
    "    \n",
    "    Args:\n",
    "        video_path (str): Path to input video\n",
    "        output_path (str, optional): Path to save output video. If None, use default output path.\n",
    "        display (bool): Whether to display frames during processing\n",
    "    \n",
    "    Returns:\n",
    "        str: Path to output video\n",
    "    \"\"\"\n",
    "    if not os.path.exists(video_path):\n",
    "        print(f\"Error: Video file not found at {video_path}\")\n",
    "        return None\n",
    "    \n",
    "    # If no output path is provided, create one in the output directory\n",
    "    if output_path is None:\n",
    "        video_name = os.path.basename(video_path)\n",
    "        output_path = os.path.join('./output', f\"processed_{video_name}\")\n",
    "    \n",
    "    print(f\"Processing video: {video_path}\")\n",
    "    print(f\"Output will be saved to: {output_path}\")\n",
    "    \n",
    "    # Load the model if not already loaded\n",
    "    global model\n",
    "    if model is None:\n",
    "        model = load_violence_detection_model()\n",
    "        if model is None:\n",
    "            return None\n",
    "    \n",
    "    # Initialize deque for prediction averaging\n",
    "    Q = deque(maxlen=32)  # Smaller queue for faster response\n",
    "    \n",
    "    # Open video capture\n",
    "    cap = cv2.VideoCapture(video_path)\n",
    "    \n",
    "    # Get video properties\n",
    "    width = int(cap.get(cv2.CAP_PROP_FRAME_WIDTH))\n",
    "    height = int(cap.get(cv2.CAP_PROP_FRAME_HEIGHT))\n",
    "    fps = cap.get(cv2.CAP_PROP_FPS)\n",
    "    total_frames = int(cap.get(cv2.CAP_PROP_FRAME_COUNT))\n",
    "    \n",
    "    print(f\"Video properties: {width}x{height}, {fps} FPS, {total_frames} frames\")\n",
    "    \n",
    "    # Initialize video writer\n",
    "    fourcc = cv2.VideoWriter_fourcc(*'mp4v')  # Use mp4v codec\n",
    "    writer = cv2.VideoWriter(output_path, fourcc, fps, (width, height))\n",
    "    \n",
    "    # Process frames\n",
    "    frame_count = 0\n",
    "    start_time = time.time()\n",
    "    \n",
    "    # Create a progress bar\n",
    "    pbar = tqdm(total=total_frames)\n",
    "    \n",
    "    while True:\n",
    "        # Read frame\n",
    "        ret, frame = cap.read()\n",
    "        \n",
    "        # If frame reading failed, break\n",
    "        if not ret:\n",
    "            break\n",
    "        \n",
    "        # Clone frame for output\n",
    "        output_frame = frame.copy()\n",
    "        \n",
    "        # Preprocess frame for model input\n",
    "        # Convert to RGB (model was trained on RGB)\n",
    "        rgb_frame = cv2.cvtColor(frame, cv2.COLOR_BGR2RGB)\n",
    "        # Resize frame\n",
    "        resized_frame = cv2.resize(rgb_frame, (128, 128)).astype(\"float32\")\n",
    "        # Normalize pixel values\n",
    "        normalized_frame = resized_frame / 255.0\n",
    "        \n",
    "        # Make prediction\n",
    "        preds = model.predict(np.expand_dims(normalized_frame, axis=0), verbose=0)[0]\n",
    "        Q.append(preds)\n",
    "        \n",
    "        # Average predictions over the queue\n",
    "        results = np.array(Q).mean(axis=0)\n",
    "        \n",
    "        # Get label and confidence\n",
    "        is_violence = results[0] > 0.5\n",
    "        confidence = results[0] if is_violence else 1 - results[0]\n",
    "        \n",
    "        # Set text color based on prediction\n",
    "        text_color = (0, 0, 255) if is_violence else (0, 255, 0)  # Red for violence, green for non-violence\n",
    "        \n",
    "        # Create text for display\n",
    "        label_text = \"Violence\" if is_violence else \"Non-Violence\"\n",
    "        text = f\"{label_text}: {confidence:.2f}\"\n",
    "        \n",
    "        # Add text to frame\n",
    "        cv2.putText(output_frame, text, (30, 50), cv2.FONT_HERSHEY_SIMPLEX, \n",
    "                    1.0, text_color, 3, cv2.LINE_AA)\n",
    "        \n",
    "        # Add a visual indicator (colored rectangle at top of frame)\n",
    "        indicator_color = (0, 0, 255) if is_violence else (0, 255, 0)  # Red or Green\n",
    "        cv2.rectangle(output_frame, (0, 0), (width, 20), indicator_color, -1)\n",
    "        \n",
    "        # Write frame to output video\n",
    "        writer.write(output_frame)\n",
    "        \n",
    "        # Display frame if requested\n",
    "        if display and frame_count % 5 == 0:  # Show every 5th frame to speed up processing\n",
    "            cv2.imshow('Violence Detection', output_frame)\n",
    "            \n",
    "            # Break if 'q' is pressed\n",
    "            if cv2.waitKey(1) & 0xFF == ord('q'):\n",
    "                break\n",
    "        \n",
    "        # Update progress bar\n",
    "        pbar.update(1)\n",
    "        frame_count += 1\n",
    "    \n",
    "    # Clean up\n",
    "    cap.release()\n",
    "    writer.release()\n",
    "    if display:\n",
    "        cv2.destroyAllWindows()\n",
    "    \n",
    "    # Close progress bar\n",
    "    pbar.close()\n",
    "    \n",
    "    # Print processing stats\n",
    "    elapsed_time = time.time() - start_time\n",
    "    print(f\"Processed {frame_count} frames in {elapsed_time:.2f} seconds\")\n",
    "    print(f\"Average FPS: {frame_count / elapsed_time:.2f}\")\n",
    "    print(f\"Output saved to: {output_path}\")\n",
    "    \n",
    "    return output_path"
   ]
  },
  {
   "cell_type": "markdown",
   "metadata": {},
   "source": [
    "## Process Sample Videos"
   ]
  },
  {
   "cell_type": "code",
   "execution_count": 5,
   "metadata": {},
   "outputs": [
    {
     "name": "stdout",
     "output_type": "stream",
     "text": [
      "Available videos in input directory:\n",
      "1. Suntukan (street fight).mp4\n"
     ]
    }
   ],
   "source": [
    "# List available videos in input directory\n",
    "def list_input_videos():\n",
    "    \"\"\"List all video files in the input directory\"\"\"\n",
    "    if not os.path.exists('./input'):\n",
    "        print(\"Input directory does not exist.\")\n",
    "        return []\n",
    "    \n",
    "    video_extensions = ['.mp4', '.avi', '.mov', '.mkv']\n",
    "    videos = []\n",
    "    \n",
    "    for file in os.listdir('./input'):\n",
    "        if any(file.lower().endswith(ext) for ext in video_extensions):\n",
    "            videos.append(file)\n",
    "    \n",
    "    return videos\n",
    "\n",
    "# List available videos\n",
    "input_videos = list_input_videos()\n",
    "if input_videos:\n",
    "    print(\"Available videos in input directory:\")\n",
    "    for i, video in enumerate(input_videos):\n",
    "        print(f\"{i+1}. {video}\")\n",
    "else:\n",
    "    print(\"No videos found in input directory.\")\n",
    "    print(\"Please place some video files in the './input' directory.\")"
   ]
  },
  {
   "cell_type": "code",
   "execution_count": 6,
   "metadata": {},
   "outputs": [
    {
     "name": "stdout",
     "output_type": "stream",
     "text": [
      "Processing video: ./input\\Suntukan (street fight).mp4\n",
      "Output will be saved to: ./output\\processed_Suntukan (street fight).mp4\n",
      "Video properties: 640x360, 30.0 FPS, 2833 frames\n"
     ]
    },
    {
     "name": "stderr",
     "output_type": "stream",
     "text": [
      "100%|█████████▉| 2831/2833 [03:18<00:00, 14.24it/s]"
     ]
    },
    {
     "name": "stdout",
     "output_type": "stream",
     "text": [
      "Processed 2831 frames in 198.80 seconds\n",
      "Average FPS: 14.24\n",
      "Output saved to: ./output\\processed_Suntukan (street fight).mp4\n"
     ]
    },
    {
     "name": "stderr",
     "output_type": "stream",
     "text": [
      "\n"
     ]
    }
   ],
   "source": [
    "# Process a sample video from the input directory\n",
    "# Change the index to process a different video\n",
    "video_index = 0  # Process the first video in the list\n",
    "\n",
    "if input_videos and video_index < len(input_videos):\n",
    "    video_name = input_videos[video_index]\n",
    "    video_path = os.path.join('./input', video_name)\n",
    "    process_video(video_path)\n",
    "else:\n",
    "    print(\"No video available to process or invalid index.\")\n",
    "    print(\"Please place videos in the './input' directory.\")"
   ]
  },
  {
   "cell_type": "markdown",
   "metadata": {},
   "source": [
    "## Process Sample Videos from Training Set"
   ]
  },
  {
   "cell_type": "code",
   "execution_count": 7,
   "metadata": {},
   "outputs": [
    {
     "name": "stdout",
     "output_type": "stream",
     "text": [
      "Processing sample violence video: ./video/Violence\\V_1.mp4\n",
      "Processing video: ./video/Violence\\V_1.mp4\n",
      "Output will be saved to: ./output\\processed_V_1.mp4\n",
      "Video properties: 1920x1080, 15.416159218092405 FPS, 103 frames\n"
     ]
    },
    {
     "name": "stderr",
     "output_type": "stream",
     "text": [
      "100%|██████████| 103/103 [00:09<00:00, 11.16it/s]\n"
     ]
    },
    {
     "name": "stdout",
     "output_type": "stream",
     "text": [
      "Processed 103 frames in 9.23 seconds\n",
      "Average FPS: 11.16\n",
      "Output saved to: ./output\\processed_V_1.mp4\n",
      "Processing sample non-violence video: ./video/NonViolence\\NV_1.mp4\n",
      "Processing video: ./video/NonViolence\\NV_1.mp4\n",
      "Output will be saved to: ./output\\processed_NV_1.mp4\n",
      "Video properties: 1920x1080, 24.900460409512974 FPS, 72 frames\n"
     ]
    },
    {
     "name": "stderr",
     "output_type": "stream",
     "text": [
      " 92%|█████████▏| 66/72 [00:05<00:00, 11.29it/s]"
     ]
    },
    {
     "name": "stdout",
     "output_type": "stream",
     "text": [
      "Processed 66 frames in 5.85 seconds\n",
      "Average FPS: 11.29\n",
      "Output saved to: ./output\\processed_NV_1.mp4\n"
     ]
    },
    {
     "name": "stderr",
     "output_type": "stream",
     "text": [
      "\n"
     ]
    }
   ],
   "source": [
    "# Process a sample from the training videos (if available)\n",
    "def process_sample_from_dataset():\n",
    "    \"\"\"Process sample videos from the training dataset\"\"\"\n",
    "    # Check for Violence videos\n",
    "    violence_path = './video/Violence'\n",
    "    nonviolence_path = './video/NonViolence'\n",
    "    \n",
    "    if os.path.exists(violence_path) and os.listdir(violence_path):\n",
    "        # Process a violence video\n",
    "        violence_videos = [f for f in os.listdir(violence_path) if f.endswith('.mp4')]\n",
    "        if violence_videos:\n",
    "            sample_video = os.path.join(violence_path, violence_videos[0])\n",
    "            print(f\"Processing sample violence video: {sample_video}\")\n",
    "            process_video(sample_video)\n",
    "    \n",
    "    if os.path.exists(nonviolence_path) and os.listdir(nonviolence_path):\n",
    "        # Process a non-violence video\n",
    "        nonviolence_videos = [f for f in os.listdir(nonviolence_path) if f.endswith('.mp4')]\n",
    "        if nonviolence_videos:\n",
    "            sample_video = os.path.join(nonviolence_path, nonviolence_videos[0])\n",
    "            print(f\"Processing sample non-violence video: {sample_video}\")\n",
    "            process_video(sample_video)\n",
    "\n",
    "# Uncomment the following line to process samples from the dataset\n",
    "process_sample_from_dataset()"
   ]
  },
  {
   "cell_type": "markdown",
   "metadata": {},
   "source": [
    "## Test on Custom Video"
   ]
  },
  {
   "cell_type": "code",
   "execution_count": 8,
   "metadata": {},
   "outputs": [],
   "source": [
    "# Function to process any video specified by path\n",
    "def process_custom_video(video_path):\n",
    "    \"\"\"Process a video file specified by path\"\"\"\n",
    "    if not os.path.exists(video_path):\n",
    "        print(f\"Error: Video file not found at {video_path}\")\n",
    "        return\n",
    "    \n",
    "    process_video(video_path)\n",
    "\n",
    "# Example usage:\n",
    "#process_custom_video('/path/to/your/video.mp4')"
   ]
  },
  {
   "cell_type": "markdown",
   "metadata": {},
   "source": [
    "## Display Processed Video"
   ]
  },
  {
   "cell_type": "code",
   "execution_count": 9,
   "metadata": {},
   "outputs": [
    {
     "name": "stdout",
     "output_type": "stream",
     "text": [
      "Available processed videos:\n",
      "1. processed_NV_1.mp4\n",
      "2. processed_Suntukan (street fight).mp4\n",
      "3. processed_V_1.mp4\n"
     ]
    }
   ],
   "source": [
    "def play_video(video_path, delay=25):\n",
    "    \"\"\"Play a video file in the notebook\n",
    "    \n",
    "    Args:\n",
    "        video_path (str): Path to video file\n",
    "        delay (int): Delay between frames in milliseconds\n",
    "    \"\"\"\n",
    "    if not os.path.exists(video_path):\n",
    "        print(f\"Error: Video file not found at {video_path}\")\n",
    "        return\n",
    "    \n",
    "    # Open video\n",
    "    cap = cv2.VideoCapture(video_path)\n",
    "    \n",
    "    # Check if opened successfully\n",
    "    if not cap.isOpened():\n",
    "        print(f\"Error opening video file: {video_path}\")\n",
    "        return\n",
    "    \n",
    "    # Read until video is completed\n",
    "    while cap.isOpened():\n",
    "        # Capture frame-by-frame\n",
    "        ret, frame = cap.read()\n",
    "        if not ret:\n",
    "            break\n",
    "        \n",
    "        # Display frame\n",
    "        cv2.imshow('Video', frame)\n",
    "        \n",
    "        # Press Q on keyboard to exit\n",
    "        if cv2.waitKey(delay) & 0xFF == ord('q'):\n",
    "            break\n",
    "    \n",
    "    # Release resources\n",
    "    cap.release()\n",
    "    cv2.destroyAllWindows()\n",
    "\n",
    "# List processed videos\n",
    "def list_processed_videos():\n",
    "    \"\"\"List all processed videos in the output directory\"\"\"\n",
    "    if not os.path.exists('./output'):\n",
    "        print(\"Output directory does not exist.\")\n",
    "        return []\n",
    "    \n",
    "    video_extensions = ['.mp4', '.avi', '.mov', '.mkv']\n",
    "    videos = []\n",
    "    \n",
    "    for file in os.listdir('./output'):\n",
    "        if any(file.lower().endswith(ext) for ext in video_extensions):\n",
    "            videos.append(file)\n",
    "    \n",
    "    return videos\n",
    "\n",
    "# List available processed videos\n",
    "processed_videos = list_processed_videos()\n",
    "if processed_videos:\n",
    "    print(\"Available processed videos:\")\n",
    "    for i, video in enumerate(processed_videos):\n",
    "        print(f\"{i+1}. {video}\")\n",
    "else:\n",
    "    print(\"No processed videos found in output directory.\")\n",
    "\n",
    "# Play a processed video (uncomment and set the correct index)\n",
    "# video_index = 0  # Play the first video in the list\n",
    "# if processed_videos and video_index < len(processed_videos):\n",
    "#     video_name = processed_videos[video_index]\n",
    "#     video_path = os.path.join('./output', video_name)\n",
    "#     play_video(video_path)\n",
    "# else:\n",
    "#     print(\"No processed video available to play or invalid index.\")"
   ]
  }
 ],
 "metadata": {
  "kernelspec": {
   "display_name": "CCDEPLRL_PROJECT",
   "language": "python",
   "name": "python3"
  },
  "language_info": {
   "codemirror_mode": {
    "name": "ipython",
    "version": 3
   },
   "file_extension": ".py",
   "mimetype": "text/x-python",
   "name": "python",
   "nbconvert_exporter": "python",
   "pygments_lexer": "ipython3",
   "version": "3.10.0"
  }
 },
 "nbformat": 4,
 "nbformat_minor": 4
}
